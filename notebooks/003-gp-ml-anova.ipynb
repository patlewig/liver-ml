{
 "cells": [
  {
   "cell_type": "code",
   "execution_count": 1,
   "id": "1a05cec9-451f-4a32-b69a-76ac87929854",
   "metadata": {},
   "outputs": [],
   "source": [
    "import matplotlib.pyplot as plt\n",
    "import pandas as pd\n",
    "import numpy as np\n",
    "import pylab as pl\n",
    "import openpyxl\n",
    "import scipy as sp\n",
    "import sys\n",
    "import seaborn as sns\n",
    "#import rpy2 \n",
    "import os, sys\n",
    "\n",
    "%matplotlib inline"
   ]
  },
  {
   "cell_type": "code",
   "execution_count": 2,
   "id": "51a35716-eee7-47d8-a89b-f0ae411fe263",
   "metadata": {},
   "outputs": [],
   "source": [
    "TOP = os.getcwd().replace(\"notebooks\", \"\")\n",
    "D1 = TOP + 'data/processed/'\n",
    "figures_dir = TOP + 'reports/figures/'"
   ]
  },
  {
   "cell_type": "code",
   "execution_count": 3,
   "id": "b7c06c85-4d2c-43b8-b0b1-69e4d7dca133",
   "metadata": {},
   "outputs": [],
   "source": [
    "final_df = pd.read_excel(D1+'unbalanced_all_140823.xlsx', sheet_name = 'all')"
   ]
  },
  {
   "cell_type": "code",
   "execution_count": 4,
   "id": "df36bb96-d7ed-4c8b-bc3d-dab3762e3931",
   "metadata": {},
   "outputs": [],
   "source": [
    "final_df= final_df.drop('Unnamed: 0', axis = 1)"
   ]
  },
  {
   "cell_type": "code",
   "execution_count": 5,
   "id": "d2552466-0c00-4827-beae-7b270103794a",
   "metadata": {},
   "outputs": [
    {
     "data": {
      "text/plain": [
       "array(['mrgn', 'gene', 'cb', 'ca', 'cba'], dtype=object)"
      ]
     },
     "execution_count": 5,
     "metadata": {},
     "output_type": "execute_result"
    }
   ],
   "source": [
    "final_df.dt.unique()"
   ]
  },
  {
   "cell_type": "code",
   "execution_count": 6,
   "id": "ef7fa908-bfd7-4711-bd30-b6e5c92b6004",
   "metadata": {},
   "outputs": [
    {
     "data": {
      "text/plain": [
       "Index(['tox', 'classifier', 'mean_f1', 'std_f1', 'mean_sensitivity',\n",
       "       'std_sensitivity', 'mean_specificity', 'std_specificity',\n",
       "       'mean_accuracy', 'std_accuracy', 'mean_precision', 'std_precision',\n",
       "       'dt', 'pos', 'neg', 'total'],\n",
       "      dtype='object')"
      ]
     },
     "execution_count": 6,
     "metadata": {},
     "output_type": "execute_result"
    }
   ],
   "source": [
    "final_df.columns"
   ]
  },
  {
   "cell_type": "code",
   "execution_count": 7,
   "id": "4698910b-9eeb-4e71-806c-9edad40a184a",
   "metadata": {},
   "outputs": [],
   "source": [
    "import statsmodels.api as sm\n",
    "from statsmodels.formula.api import ols"
   ]
  },
  {
   "cell_type": "code",
   "execution_count": 8,
   "id": "759722a5-019e-452b-8b94-60ff4d832124",
   "metadata": {},
   "outputs": [
    {
     "data": {
      "text/html": [
       "<div>\n",
       "<style scoped>\n",
       "    .dataframe tbody tr th:only-of-type {\n",
       "        vertical-align: middle;\n",
       "    }\n",
       "\n",
       "    .dataframe tbody tr th {\n",
       "        vertical-align: top;\n",
       "    }\n",
       "\n",
       "    .dataframe thead th {\n",
       "        text-align: right;\n",
       "    }\n",
       "</style>\n",
       "<table border=\"1\" class=\"dataframe\">\n",
       "  <thead>\n",
       "    <tr style=\"text-align: right;\">\n",
       "      <th></th>\n",
       "      <th>sum_sq</th>\n",
       "      <th>df</th>\n",
       "      <th>F</th>\n",
       "      <th>PR(&gt;F)</th>\n",
       "    </tr>\n",
       "  </thead>\n",
       "  <tbody>\n",
       "    <tr>\n",
       "      <th>C(classifier)</th>\n",
       "      <td>0.181449</td>\n",
       "      <td>7.0</td>\n",
       "      <td>0.214841</td>\n",
       "      <td>0.981504</td>\n",
       "    </tr>\n",
       "    <tr>\n",
       "      <th>Residual</th>\n",
       "      <td>16.408803</td>\n",
       "      <td>136.0</td>\n",
       "      <td>NaN</td>\n",
       "      <td>NaN</td>\n",
       "    </tr>\n",
       "  </tbody>\n",
       "</table>\n",
       "</div>"
      ],
      "text/plain": [
       "                  sum_sq     df         F    PR(>F)\n",
       "C(classifier)   0.181449    7.0  0.214841  0.981504\n",
       "Residual       16.408803  136.0       NaN       NaN"
      ]
     },
     "execution_count": 8,
     "metadata": {},
     "output_type": "execute_result"
    }
   ],
   "source": [
    "model = ols('mean_f1 ~ C(classifier)', data=final_df[final_df['dt']== 'mrgn'] ).fit()\n",
    "aov_table = sm.stats.anova_lm(model, typ=2)\n",
    "aov_table"
   ]
  },
  {
   "cell_type": "code",
   "execution_count": 9,
   "id": "3d8d2e6d-25ab-4e31-97bd-b253b12ba466",
   "metadata": {},
   "outputs": [
    {
     "data": {
      "text/html": [
       "<div>\n",
       "<style scoped>\n",
       "    .dataframe tbody tr th:only-of-type {\n",
       "        vertical-align: middle;\n",
       "    }\n",
       "\n",
       "    .dataframe tbody tr th {\n",
       "        vertical-align: top;\n",
       "    }\n",
       "\n",
       "    .dataframe thead th {\n",
       "        text-align: right;\n",
       "    }\n",
       "</style>\n",
       "<table border=\"1\" class=\"dataframe\">\n",
       "  <thead>\n",
       "    <tr style=\"text-align: right;\">\n",
       "      <th></th>\n",
       "      <th>sum_sq</th>\n",
       "      <th>df</th>\n",
       "      <th>F</th>\n",
       "      <th>PR(&gt;F)</th>\n",
       "    </tr>\n",
       "  </thead>\n",
       "  <tbody>\n",
       "    <tr>\n",
       "      <th>C(classifier)</th>\n",
       "      <td>0.075987</td>\n",
       "      <td>7.0</td>\n",
       "      <td>0.093233</td>\n",
       "      <td>0.998604</td>\n",
       "    </tr>\n",
       "    <tr>\n",
       "      <th>Residual</th>\n",
       "      <td>15.834736</td>\n",
       "      <td>136.0</td>\n",
       "      <td>NaN</td>\n",
       "      <td>NaN</td>\n",
       "    </tr>\n",
       "  </tbody>\n",
       "</table>\n",
       "</div>"
      ],
      "text/plain": [
       "                  sum_sq     df         F    PR(>F)\n",
       "C(classifier)   0.075987    7.0  0.093233  0.998604\n",
       "Residual       15.834736  136.0       NaN       NaN"
      ]
     },
     "execution_count": 9,
     "metadata": {},
     "output_type": "execute_result"
    }
   ],
   "source": [
    "model = ols('mean_f1 ~ C(classifier)', data=final_df[final_df['dt']== 'gene'] ).fit()\n",
    "aov_table = sm.stats.anova_lm(model, typ=2)\n",
    "aov_table"
   ]
  },
  {
   "cell_type": "code",
   "execution_count": 10,
   "id": "e1069eac-8a3f-46dc-a9ae-9abf658f1592",
   "metadata": {},
   "outputs": [
    {
     "data": {
      "text/html": [
       "<div>\n",
       "<style scoped>\n",
       "    .dataframe tbody tr th:only-of-type {\n",
       "        vertical-align: middle;\n",
       "    }\n",
       "\n",
       "    .dataframe tbody tr th {\n",
       "        vertical-align: top;\n",
       "    }\n",
       "\n",
       "    .dataframe thead th {\n",
       "        text-align: right;\n",
       "    }\n",
       "</style>\n",
       "<table border=\"1\" class=\"dataframe\">\n",
       "  <thead>\n",
       "    <tr style=\"text-align: right;\">\n",
       "      <th></th>\n",
       "      <th>sum_sq</th>\n",
       "      <th>df</th>\n",
       "      <th>F</th>\n",
       "      <th>PR(&gt;F)</th>\n",
       "    </tr>\n",
       "  </thead>\n",
       "  <tbody>\n",
       "    <tr>\n",
       "      <th>C(classifier)</th>\n",
       "      <td>0.092501</td>\n",
       "      <td>7.0</td>\n",
       "      <td>0.107382</td>\n",
       "      <td>0.997801</td>\n",
       "    </tr>\n",
       "    <tr>\n",
       "      <th>Residual</th>\n",
       "      <td>16.736135</td>\n",
       "      <td>136.0</td>\n",
       "      <td>NaN</td>\n",
       "      <td>NaN</td>\n",
       "    </tr>\n",
       "  </tbody>\n",
       "</table>\n",
       "</div>"
      ],
      "text/plain": [
       "                  sum_sq     df         F    PR(>F)\n",
       "C(classifier)   0.092501    7.0  0.107382  0.997801\n",
       "Residual       16.736135  136.0       NaN       NaN"
      ]
     },
     "execution_count": 10,
     "metadata": {},
     "output_type": "execute_result"
    }
   ],
   "source": [
    "model = ols('mean_f1 ~ C(classifier)', data=final_df[final_df['dt']== 'cb'] ).fit()\n",
    "aov_table = sm.stats.anova_lm(model, typ=2)\n",
    "aov_table"
   ]
  },
  {
   "cell_type": "code",
   "execution_count": 11,
   "id": "61dcb08a-0518-4db3-94cb-3eaf300e3114",
   "metadata": {},
   "outputs": [
    {
     "data": {
      "text/html": [
       "<div>\n",
       "<style scoped>\n",
       "    .dataframe tbody tr th:only-of-type {\n",
       "        vertical-align: middle;\n",
       "    }\n",
       "\n",
       "    .dataframe tbody tr th {\n",
       "        vertical-align: top;\n",
       "    }\n",
       "\n",
       "    .dataframe thead th {\n",
       "        text-align: right;\n",
       "    }\n",
       "</style>\n",
       "<table border=\"1\" class=\"dataframe\">\n",
       "  <thead>\n",
       "    <tr style=\"text-align: right;\">\n",
       "      <th></th>\n",
       "      <th>sum_sq</th>\n",
       "      <th>df</th>\n",
       "      <th>F</th>\n",
       "      <th>PR(&gt;F)</th>\n",
       "    </tr>\n",
       "  </thead>\n",
       "  <tbody>\n",
       "    <tr>\n",
       "      <th>C(classifier)</th>\n",
       "      <td>0.189227</td>\n",
       "      <td>7.0</td>\n",
       "      <td>0.217736</td>\n",
       "      <td>0.98077</td>\n",
       "    </tr>\n",
       "    <tr>\n",
       "      <th>Residual</th>\n",
       "      <td>16.884706</td>\n",
       "      <td>136.0</td>\n",
       "      <td>NaN</td>\n",
       "      <td>NaN</td>\n",
       "    </tr>\n",
       "  </tbody>\n",
       "</table>\n",
       "</div>"
      ],
      "text/plain": [
       "                  sum_sq     df         F   PR(>F)\n",
       "C(classifier)   0.189227    7.0  0.217736  0.98077\n",
       "Residual       16.884706  136.0       NaN      NaN"
      ]
     },
     "execution_count": 11,
     "metadata": {},
     "output_type": "execute_result"
    }
   ],
   "source": [
    "model = ols('mean_f1 ~ C(classifier)', data=final_df[final_df['dt']== 'ca'] ).fit()\n",
    "aov_table = sm.stats.anova_lm(model, typ=2)\n",
    "aov_table"
   ]
  },
  {
   "cell_type": "code",
   "execution_count": 12,
   "id": "7d62d829-418c-486e-ab0e-2c3e1f747426",
   "metadata": {},
   "outputs": [
    {
     "data": {
      "text/html": [
       "<div>\n",
       "<style scoped>\n",
       "    .dataframe tbody tr th:only-of-type {\n",
       "        vertical-align: middle;\n",
       "    }\n",
       "\n",
       "    .dataframe tbody tr th {\n",
       "        vertical-align: top;\n",
       "    }\n",
       "\n",
       "    .dataframe thead th {\n",
       "        text-align: right;\n",
       "    }\n",
       "</style>\n",
       "<table border=\"1\" class=\"dataframe\">\n",
       "  <thead>\n",
       "    <tr style=\"text-align: right;\">\n",
       "      <th></th>\n",
       "      <th>sum_sq</th>\n",
       "      <th>df</th>\n",
       "      <th>F</th>\n",
       "      <th>PR(&gt;F)</th>\n",
       "    </tr>\n",
       "  </thead>\n",
       "  <tbody>\n",
       "    <tr>\n",
       "      <th>C(classifier)</th>\n",
       "      <td>0.097743</td>\n",
       "      <td>7.0</td>\n",
       "      <td>0.111307</td>\n",
       "      <td>0.997533</td>\n",
       "    </tr>\n",
       "    <tr>\n",
       "      <th>Residual</th>\n",
       "      <td>17.060992</td>\n",
       "      <td>136.0</td>\n",
       "      <td>NaN</td>\n",
       "      <td>NaN</td>\n",
       "    </tr>\n",
       "  </tbody>\n",
       "</table>\n",
       "</div>"
      ],
      "text/plain": [
       "                  sum_sq     df         F    PR(>F)\n",
       "C(classifier)   0.097743    7.0  0.111307  0.997533\n",
       "Residual       17.060992  136.0       NaN       NaN"
      ]
     },
     "execution_count": 12,
     "metadata": {},
     "output_type": "execute_result"
    }
   ],
   "source": [
    "model = ols('mean_f1 ~ C(classifier)', data=final_df[final_df['dt']== 'cba'] ).fit()\n",
    "aov_table = sm.stats.anova_lm(model, typ=2)\n",
    "aov_table"
   ]
  },
  {
   "cell_type": "code",
   "execution_count": 15,
   "id": "f62087f2-beaf-4664-8db2-1156191cecf2",
   "metadata": {},
   "outputs": [
    {
     "data": {
      "text/plain": [
       "array([  7., 136.])"
      ]
     },
     "execution_count": 15,
     "metadata": {},
     "output_type": "execute_result"
    }
   ],
   "source": [
    "aov_table['df'].values"
   ]
  },
  {
   "cell_type": "code",
   "execution_count": 16,
   "id": "f14a1a74-1f8c-40e2-b412-44cd801c3793",
   "metadata": {},
   "outputs": [],
   "source": [
    "liver_only = pd.read_excel(D1+'unbalanced_all_140823.xlsx', sheet_name = 'liver')"
   ]
  },
  {
   "cell_type": "code",
   "execution_count": 17,
   "id": "8a0f617c-e50f-4ec2-824a-1f5b21d510d8",
   "metadata": {},
   "outputs": [
    {
     "data": {
      "text/html": [
       "<div>\n",
       "<style scoped>\n",
       "    .dataframe tbody tr th:only-of-type {\n",
       "        vertical-align: middle;\n",
       "    }\n",
       "\n",
       "    .dataframe tbody tr th {\n",
       "        vertical-align: top;\n",
       "    }\n",
       "\n",
       "    .dataframe thead th {\n",
       "        text-align: right;\n",
       "    }\n",
       "</style>\n",
       "<table border=\"1\" class=\"dataframe\">\n",
       "  <thead>\n",
       "    <tr style=\"text-align: right;\">\n",
       "      <th></th>\n",
       "      <th>Unnamed: 0</th>\n",
       "      <th>tox</th>\n",
       "      <th>classifier</th>\n",
       "      <th>mean_f1</th>\n",
       "      <th>std_f1</th>\n",
       "      <th>mean_sensitivity</th>\n",
       "      <th>std_sensitivity</th>\n",
       "      <th>mean_specificity</th>\n",
       "      <th>std_specificity</th>\n",
       "      <th>mean_accuracy</th>\n",
       "      <th>std_accuracy</th>\n",
       "      <th>mean_precision</th>\n",
       "      <th>std_precision</th>\n",
       "      <th>dt</th>\n",
       "      <th>pos</th>\n",
       "      <th>neg</th>\n",
       "      <th>total</th>\n",
       "    </tr>\n",
       "  </thead>\n",
       "  <tbody>\n",
       "    <tr>\n",
       "      <th>0</th>\n",
       "      <td>16</td>\n",
       "      <td>chr_liver</td>\n",
       "      <td>ANN1</td>\n",
       "      <td>0.785</td>\n",
       "      <td>0.005</td>\n",
       "      <td>0.996</td>\n",
       "      <td>0.010</td>\n",
       "      <td>0.000</td>\n",
       "      <td>0.000</td>\n",
       "      <td>0.646</td>\n",
       "      <td>0.007</td>\n",
       "      <td>0.647</td>\n",
       "      <td>0.006</td>\n",
       "      <td>mrgn</td>\n",
       "      <td>325</td>\n",
       "      <td>191</td>\n",
       "      <td>516</td>\n",
       "    </tr>\n",
       "    <tr>\n",
       "      <th>1</th>\n",
       "      <td>17</td>\n",
       "      <td>chr_liver</td>\n",
       "      <td>GenRA</td>\n",
       "      <td>0.751</td>\n",
       "      <td>0.041</td>\n",
       "      <td>0.804</td>\n",
       "      <td>0.133</td>\n",
       "      <td>0.390</td>\n",
       "      <td>0.235</td>\n",
       "      <td>0.659</td>\n",
       "      <td>0.035</td>\n",
       "      <td>0.717</td>\n",
       "      <td>0.050</td>\n",
       "      <td>mrgn</td>\n",
       "      <td>325</td>\n",
       "      <td>191</td>\n",
       "      <td>516</td>\n",
       "    </tr>\n",
       "    <tr>\n",
       "      <th>2</th>\n",
       "      <td>18</td>\n",
       "      <td>chr_liver</td>\n",
       "      <td>GB</td>\n",
       "      <td>0.744</td>\n",
       "      <td>0.027</td>\n",
       "      <td>0.822</td>\n",
       "      <td>0.075</td>\n",
       "      <td>0.291</td>\n",
       "      <td>0.128</td>\n",
       "      <td>0.635</td>\n",
       "      <td>0.028</td>\n",
       "      <td>0.683</td>\n",
       "      <td>0.032</td>\n",
       "      <td>mrgn</td>\n",
       "      <td>325</td>\n",
       "      <td>191</td>\n",
       "      <td>516</td>\n",
       "    </tr>\n",
       "    <tr>\n",
       "      <th>3</th>\n",
       "      <td>19</td>\n",
       "      <td>chr_liver</td>\n",
       "      <td>KNN</td>\n",
       "      <td>0.461</td>\n",
       "      <td>0.172</td>\n",
       "      <td>0.402</td>\n",
       "      <td>0.200</td>\n",
       "      <td>0.516</td>\n",
       "      <td>0.175</td>\n",
       "      <td>0.442</td>\n",
       "      <td>0.083</td>\n",
       "      <td>0.586</td>\n",
       "      <td>0.096</td>\n",
       "      <td>mrgn</td>\n",
       "      <td>325</td>\n",
       "      <td>191</td>\n",
       "      <td>516</td>\n",
       "    </tr>\n",
       "    <tr>\n",
       "      <th>4</th>\n",
       "      <td>20</td>\n",
       "      <td>chr_liver</td>\n",
       "      <td>LR</td>\n",
       "      <td>0.746</td>\n",
       "      <td>0.053</td>\n",
       "      <td>0.796</td>\n",
       "      <td>0.119</td>\n",
       "      <td>0.391</td>\n",
       "      <td>0.128</td>\n",
       "      <td>0.654</td>\n",
       "      <td>0.049</td>\n",
       "      <td>0.708</td>\n",
       "      <td>0.032</td>\n",
       "      <td>mrgn</td>\n",
       "      <td>325</td>\n",
       "      <td>191</td>\n",
       "      <td>516</td>\n",
       "    </tr>\n",
       "    <tr>\n",
       "      <th>...</th>\n",
       "      <td>...</td>\n",
       "      <td>...</td>\n",
       "      <td>...</td>\n",
       "      <td>...</td>\n",
       "      <td>...</td>\n",
       "      <td>...</td>\n",
       "      <td>...</td>\n",
       "      <td>...</td>\n",
       "      <td>...</td>\n",
       "      <td>...</td>\n",
       "      <td>...</td>\n",
       "      <td>...</td>\n",
       "      <td>...</td>\n",
       "      <td>...</td>\n",
       "      <td>...</td>\n",
       "      <td>...</td>\n",
       "      <td>...</td>\n",
       "    </tr>\n",
       "    <tr>\n",
       "      <th>187</th>\n",
       "      <td>123</td>\n",
       "      <td>sac_liver</td>\n",
       "      <td>KNN</td>\n",
       "      <td>0.487</td>\n",
       "      <td>0.199</td>\n",
       "      <td>0.364</td>\n",
       "      <td>0.165</td>\n",
       "      <td>0.906</td>\n",
       "      <td>0.130</td>\n",
       "      <td>0.585</td>\n",
       "      <td>0.099</td>\n",
       "      <td>0.876</td>\n",
       "      <td>0.170</td>\n",
       "      <td>cba</td>\n",
       "      <td>82</td>\n",
       "      <td>52</td>\n",
       "      <td>134</td>\n",
       "    </tr>\n",
       "    <tr>\n",
       "      <th>188</th>\n",
       "      <td>124</td>\n",
       "      <td>sac_liver</td>\n",
       "      <td>LR</td>\n",
       "      <td>0.743</td>\n",
       "      <td>0.173</td>\n",
       "      <td>0.777</td>\n",
       "      <td>0.267</td>\n",
       "      <td>0.644</td>\n",
       "      <td>0.308</td>\n",
       "      <td>0.716</td>\n",
       "      <td>0.155</td>\n",
       "      <td>0.793</td>\n",
       "      <td>0.172</td>\n",
       "      <td>cba</td>\n",
       "      <td>82</td>\n",
       "      <td>52</td>\n",
       "      <td>134</td>\n",
       "    </tr>\n",
       "    <tr>\n",
       "      <th>189</th>\n",
       "      <td>125</td>\n",
       "      <td>sac_liver</td>\n",
       "      <td>NB</td>\n",
       "      <td>0.713</td>\n",
       "      <td>0.148</td>\n",
       "      <td>0.744</td>\n",
       "      <td>0.242</td>\n",
       "      <td>0.594</td>\n",
       "      <td>0.331</td>\n",
       "      <td>0.676</td>\n",
       "      <td>0.127</td>\n",
       "      <td>0.768</td>\n",
       "      <td>0.179</td>\n",
       "      <td>cba</td>\n",
       "      <td>82</td>\n",
       "      <td>52</td>\n",
       "      <td>134</td>\n",
       "    </tr>\n",
       "    <tr>\n",
       "      <th>190</th>\n",
       "      <td>126</td>\n",
       "      <td>sac_liver</td>\n",
       "      <td>RF</td>\n",
       "      <td>0.754</td>\n",
       "      <td>0.134</td>\n",
       "      <td>0.812</td>\n",
       "      <td>0.230</td>\n",
       "      <td>0.569</td>\n",
       "      <td>0.356</td>\n",
       "      <td>0.707</td>\n",
       "      <td>0.139</td>\n",
       "      <td>0.770</td>\n",
       "      <td>0.181</td>\n",
       "      <td>cba</td>\n",
       "      <td>82</td>\n",
       "      <td>52</td>\n",
       "      <td>134</td>\n",
       "    </tr>\n",
       "    <tr>\n",
       "      <th>191</th>\n",
       "      <td>127</td>\n",
       "      <td>sac_liver</td>\n",
       "      <td>SVC</td>\n",
       "      <td>0.739</td>\n",
       "      <td>0.018</td>\n",
       "      <td>1.000</td>\n",
       "      <td>0.000</td>\n",
       "      <td>0.000</td>\n",
       "      <td>0.000</td>\n",
       "      <td>0.586</td>\n",
       "      <td>0.022</td>\n",
       "      <td>0.586</td>\n",
       "      <td>0.022</td>\n",
       "      <td>cba</td>\n",
       "      <td>82</td>\n",
       "      <td>52</td>\n",
       "      <td>134</td>\n",
       "    </tr>\n",
       "  </tbody>\n",
       "</table>\n",
       "<p>120 rows × 17 columns</p>\n",
       "</div>"
      ],
      "text/plain": [
       "     Unnamed: 0        tox classifier  mean_f1  std_f1  mean_sensitivity  \\\n",
       "0            16  chr_liver       ANN1    0.785   0.005             0.996   \n",
       "1            17  chr_liver      GenRA    0.751   0.041             0.804   \n",
       "2            18  chr_liver         GB    0.744   0.027             0.822   \n",
       "3            19  chr_liver        KNN    0.461   0.172             0.402   \n",
       "4            20  chr_liver         LR    0.746   0.053             0.796   \n",
       "..          ...        ...        ...      ...     ...               ...   \n",
       "187         123  sac_liver        KNN    0.487   0.199             0.364   \n",
       "188         124  sac_liver         LR    0.743   0.173             0.777   \n",
       "189         125  sac_liver         NB    0.713   0.148             0.744   \n",
       "190         126  sac_liver         RF    0.754   0.134             0.812   \n",
       "191         127  sac_liver        SVC    0.739   0.018             1.000   \n",
       "\n",
       "     std_sensitivity  mean_specificity  std_specificity  mean_accuracy  \\\n",
       "0              0.010             0.000            0.000          0.646   \n",
       "1              0.133             0.390            0.235          0.659   \n",
       "2              0.075             0.291            0.128          0.635   \n",
       "3              0.200             0.516            0.175          0.442   \n",
       "4              0.119             0.391            0.128          0.654   \n",
       "..               ...               ...              ...            ...   \n",
       "187            0.165             0.906            0.130          0.585   \n",
       "188            0.267             0.644            0.308          0.716   \n",
       "189            0.242             0.594            0.331          0.676   \n",
       "190            0.230             0.569            0.356          0.707   \n",
       "191            0.000             0.000            0.000          0.586   \n",
       "\n",
       "     std_accuracy  mean_precision  std_precision    dt  pos  neg  total  \n",
       "0           0.007           0.647          0.006  mrgn  325  191    516  \n",
       "1           0.035           0.717          0.050  mrgn  325  191    516  \n",
       "2           0.028           0.683          0.032  mrgn  325  191    516  \n",
       "3           0.083           0.586          0.096  mrgn  325  191    516  \n",
       "4           0.049           0.708          0.032  mrgn  325  191    516  \n",
       "..            ...             ...            ...   ...  ...  ...    ...  \n",
       "187         0.099           0.876          0.170   cba   82   52    134  \n",
       "188         0.155           0.793          0.172   cba   82   52    134  \n",
       "189         0.127           0.768          0.179   cba   82   52    134  \n",
       "190         0.139           0.770          0.181   cba   82   52    134  \n",
       "191         0.022           0.586          0.022   cba   82   52    134  \n",
       "\n",
       "[120 rows x 17 columns]"
      ]
     },
     "execution_count": 17,
     "metadata": {},
     "output_type": "execute_result"
    }
   ],
   "source": [
    "liver_only[liver_only['tox'].isin(['chr_liver', 'sub_liver','sac_liver'])]"
   ]
  },
  {
   "cell_type": "code",
   "execution_count": 18,
   "id": "740a5c25-1748-409e-94a4-69c05bb0e857",
   "metadata": {},
   "outputs": [],
   "source": [
    "liver_ = liver_only[liver_only['tox'].isin(['chr_liver', 'sub_liver','sac_liver'])]"
   ]
  },
  {
   "cell_type": "code",
   "execution_count": 19,
   "id": "d31d77eb-239f-46bc-8dc4-6b2c84ba02be",
   "metadata": {},
   "outputs": [
    {
     "data": {
      "text/plain": [
       "array(['mrgn', 'gene', 'cb', 'ca', 'cba'], dtype=object)"
      ]
     },
     "execution_count": 19,
     "metadata": {},
     "output_type": "execute_result"
    }
   ],
   "source": [
    "liver_.dt.unique()\n"
   ]
  },
  {
   "cell_type": "code",
   "execution_count": 20,
   "id": "8fbee1b5-8da0-442d-af2c-e2bba5577431",
   "metadata": {},
   "outputs": [],
   "source": [
    "anova_res = {}\n",
    "for e in liver_.dt.unique():\n",
    "    model = ols('mean_f1 ~ C(classifier)', data=liver_[liver_['dt']== e ] ).fit()\n",
    "    aov_table = sm.stats.anova_lm(model, typ=2)\n",
    "    anova_res[e] = aov_table"
   ]
  },
  {
   "cell_type": "code",
   "execution_count": 21,
   "id": "52c2a840-5e90-4073-937f-e20eff9c523b",
   "metadata": {},
   "outputs": [
    {
     "data": {
      "text/html": [
       "<div>\n",
       "<style scoped>\n",
       "    .dataframe tbody tr th:only-of-type {\n",
       "        vertical-align: middle;\n",
       "    }\n",
       "\n",
       "    .dataframe tbody tr th {\n",
       "        vertical-align: top;\n",
       "    }\n",
       "\n",
       "    .dataframe thead th {\n",
       "        text-align: right;\n",
       "    }\n",
       "</style>\n",
       "<table border=\"1\" class=\"dataframe\">\n",
       "  <thead>\n",
       "    <tr style=\"text-align: right;\">\n",
       "      <th></th>\n",
       "      <th>sum_sq</th>\n",
       "      <th>df</th>\n",
       "      <th>F</th>\n",
       "      <th>PR(&gt;F)</th>\n",
       "    </tr>\n",
       "  </thead>\n",
       "  <tbody>\n",
       "    <tr>\n",
       "      <th>C(classifier)</th>\n",
       "      <td>0.290709</td>\n",
       "      <td>7.0</td>\n",
       "      <td>1.653744</td>\n",
       "      <td>0.191205</td>\n",
       "    </tr>\n",
       "    <tr>\n",
       "      <th>Residual</th>\n",
       "      <td>0.401802</td>\n",
       "      <td>16.0</td>\n",
       "      <td>NaN</td>\n",
       "      <td>NaN</td>\n",
       "    </tr>\n",
       "  </tbody>\n",
       "</table>\n",
       "</div>"
      ],
      "text/plain": [
       "                 sum_sq    df         F    PR(>F)\n",
       "C(classifier)  0.290709   7.0  1.653744  0.191205\n",
       "Residual       0.401802  16.0       NaN       NaN"
      ]
     },
     "execution_count": 21,
     "metadata": {},
     "output_type": "execute_result"
    }
   ],
   "source": [
    "anova_res['mrgn']"
   ]
  },
  {
   "cell_type": "code",
   "execution_count": 22,
   "id": "feac5c2f-0b63-4f1a-bd32-00377504ea3b",
   "metadata": {},
   "outputs": [
    {
     "data": {
      "text/html": [
       "<div>\n",
       "<style scoped>\n",
       "    .dataframe tbody tr th:only-of-type {\n",
       "        vertical-align: middle;\n",
       "    }\n",
       "\n",
       "    .dataframe tbody tr th {\n",
       "        vertical-align: top;\n",
       "    }\n",
       "\n",
       "    .dataframe thead th {\n",
       "        text-align: right;\n",
       "    }\n",
       "</style>\n",
       "<table border=\"1\" class=\"dataframe\">\n",
       "  <thead>\n",
       "    <tr style=\"text-align: right;\">\n",
       "      <th></th>\n",
       "      <th>sum_sq</th>\n",
       "      <th>df</th>\n",
       "      <th>F</th>\n",
       "      <th>PR(&gt;F)</th>\n",
       "    </tr>\n",
       "  </thead>\n",
       "  <tbody>\n",
       "    <tr>\n",
       "      <th>C(classifier)</th>\n",
       "      <td>0.045683</td>\n",
       "      <td>7.0</td>\n",
       "      <td>1.738661</td>\n",
       "      <td>0.170043</td>\n",
       "    </tr>\n",
       "    <tr>\n",
       "      <th>Residual</th>\n",
       "      <td>0.060057</td>\n",
       "      <td>16.0</td>\n",
       "      <td>NaN</td>\n",
       "      <td>NaN</td>\n",
       "    </tr>\n",
       "  </tbody>\n",
       "</table>\n",
       "</div>"
      ],
      "text/plain": [
       "                 sum_sq    df         F    PR(>F)\n",
       "C(classifier)  0.045683   7.0  1.738661  0.170043\n",
       "Residual       0.060057  16.0       NaN       NaN"
      ]
     },
     "execution_count": 22,
     "metadata": {},
     "output_type": "execute_result"
    }
   ],
   "source": [
    "anova_res['gene']"
   ]
  },
  {
   "cell_type": "code",
   "execution_count": 23,
   "id": "ea3d4236-e46e-419e-bb21-147a874bdf0f",
   "metadata": {},
   "outputs": [
    {
     "data": {
      "text/html": [
       "<div>\n",
       "<style scoped>\n",
       "    .dataframe tbody tr th:only-of-type {\n",
       "        vertical-align: middle;\n",
       "    }\n",
       "\n",
       "    .dataframe tbody tr th {\n",
       "        vertical-align: top;\n",
       "    }\n",
       "\n",
       "    .dataframe thead th {\n",
       "        text-align: right;\n",
       "    }\n",
       "</style>\n",
       "<table border=\"1\" class=\"dataframe\">\n",
       "  <thead>\n",
       "    <tr style=\"text-align: right;\">\n",
       "      <th></th>\n",
       "      <th>sum_sq</th>\n",
       "      <th>df</th>\n",
       "      <th>F</th>\n",
       "      <th>PR(&gt;F)</th>\n",
       "    </tr>\n",
       "  </thead>\n",
       "  <tbody>\n",
       "    <tr>\n",
       "      <th>C(classifier)</th>\n",
       "      <td>0.041861</td>\n",
       "      <td>7.0</td>\n",
       "      <td>1.127832</td>\n",
       "      <td>0.393808</td>\n",
       "    </tr>\n",
       "    <tr>\n",
       "      <th>Residual</th>\n",
       "      <td>0.084838</td>\n",
       "      <td>16.0</td>\n",
       "      <td>NaN</td>\n",
       "      <td>NaN</td>\n",
       "    </tr>\n",
       "  </tbody>\n",
       "</table>\n",
       "</div>"
      ],
      "text/plain": [
       "                 sum_sq    df         F    PR(>F)\n",
       "C(classifier)  0.041861   7.0  1.127832  0.393808\n",
       "Residual       0.084838  16.0       NaN       NaN"
      ]
     },
     "execution_count": 23,
     "metadata": {},
     "output_type": "execute_result"
    }
   ],
   "source": [
    "anova_res['cb']"
   ]
  },
  {
   "cell_type": "code",
   "execution_count": 24,
   "id": "f19ea626-b7d3-4cf6-bea0-f1083c16181b",
   "metadata": {},
   "outputs": [
    {
     "data": {
      "text/html": [
       "<div>\n",
       "<style scoped>\n",
       "    .dataframe tbody tr th:only-of-type {\n",
       "        vertical-align: middle;\n",
       "    }\n",
       "\n",
       "    .dataframe tbody tr th {\n",
       "        vertical-align: top;\n",
       "    }\n",
       "\n",
       "    .dataframe thead th {\n",
       "        text-align: right;\n",
       "    }\n",
       "</style>\n",
       "<table border=\"1\" class=\"dataframe\">\n",
       "  <thead>\n",
       "    <tr style=\"text-align: right;\">\n",
       "      <th></th>\n",
       "      <th>sum_sq</th>\n",
       "      <th>df</th>\n",
       "      <th>F</th>\n",
       "      <th>PR(&gt;F)</th>\n",
       "    </tr>\n",
       "  </thead>\n",
       "  <tbody>\n",
       "    <tr>\n",
       "      <th>C(classifier)</th>\n",
       "      <td>0.289134</td>\n",
       "      <td>7.0</td>\n",
       "      <td>1.735113</td>\n",
       "      <td>0.170877</td>\n",
       "    </tr>\n",
       "    <tr>\n",
       "      <th>Residual</th>\n",
       "      <td>0.380884</td>\n",
       "      <td>16.0</td>\n",
       "      <td>NaN</td>\n",
       "      <td>NaN</td>\n",
       "    </tr>\n",
       "  </tbody>\n",
       "</table>\n",
       "</div>"
      ],
      "text/plain": [
       "                 sum_sq    df         F    PR(>F)\n",
       "C(classifier)  0.289134   7.0  1.735113  0.170877\n",
       "Residual       0.380884  16.0       NaN       NaN"
      ]
     },
     "execution_count": 24,
     "metadata": {},
     "output_type": "execute_result"
    }
   ],
   "source": [
    "anova_res['ca']"
   ]
  },
  {
   "cell_type": "code",
   "execution_count": 25,
   "id": "ffdc54a7-e70a-4eac-bb0b-b6114f44c520",
   "metadata": {},
   "outputs": [
    {
     "data": {
      "text/html": [
       "<div>\n",
       "<style scoped>\n",
       "    .dataframe tbody tr th:only-of-type {\n",
       "        vertical-align: middle;\n",
       "    }\n",
       "\n",
       "    .dataframe tbody tr th {\n",
       "        vertical-align: top;\n",
       "    }\n",
       "\n",
       "    .dataframe thead th {\n",
       "        text-align: right;\n",
       "    }\n",
       "</style>\n",
       "<table border=\"1\" class=\"dataframe\">\n",
       "  <thead>\n",
       "    <tr style=\"text-align: right;\">\n",
       "      <th></th>\n",
       "      <th>sum_sq</th>\n",
       "      <th>df</th>\n",
       "      <th>F</th>\n",
       "      <th>PR(&gt;F)</th>\n",
       "    </tr>\n",
       "  </thead>\n",
       "  <tbody>\n",
       "    <tr>\n",
       "      <th>C(classifier)</th>\n",
       "      <td>0.063908</td>\n",
       "      <td>7.0</td>\n",
       "      <td>1.538723</td>\n",
       "      <td>0.224209</td>\n",
       "    </tr>\n",
       "    <tr>\n",
       "      <th>Residual</th>\n",
       "      <td>0.094933</td>\n",
       "      <td>16.0</td>\n",
       "      <td>NaN</td>\n",
       "      <td>NaN</td>\n",
       "    </tr>\n",
       "  </tbody>\n",
       "</table>\n",
       "</div>"
      ],
      "text/plain": [
       "                 sum_sq    df         F    PR(>F)\n",
       "C(classifier)  0.063908   7.0  1.538723  0.224209\n",
       "Residual       0.094933  16.0       NaN       NaN"
      ]
     },
     "execution_count": 25,
     "metadata": {},
     "output_type": "execute_result"
    }
   ],
   "source": [
    "anova_res['cba']"
   ]
  },
  {
   "cell_type": "code",
   "execution_count": 33,
   "id": "9fd23fa2-23e2-4a33-af5e-ba5dd0421549",
   "metadata": {},
   "outputs": [],
   "source": [
    "import statsmodels.stats.multicomp as mc\n",
    "tukey_dict = {}\n",
    "for e in liver_.dt.unique():\n",
    "    comp = mc.MultiComparison(liver_[liver_['dt']== e ]['mean_f1'], liver_[liver_['dt']== e ]['classifier'])\n",
    "    post_hoc_res = comp.tukeyhsd()\n",
    "    tukey_dict[e] = post_hoc_res.summary()"
   ]
  },
  {
   "cell_type": "code",
   "execution_count": 34,
   "id": "e7787e5a-4d86-4f94-a2be-0d5dff77b9fd",
   "metadata": {},
   "outputs": [
    {
     "data": {
      "text/plain": [
       "dict_keys(['mrgn', 'gene', 'cb', 'ca', 'cba'])"
      ]
     },
     "execution_count": 34,
     "metadata": {},
     "output_type": "execute_result"
    }
   ],
   "source": [
    "tukey_dict.keys()"
   ]
  },
  {
   "cell_type": "code",
   "execution_count": 39,
   "id": "1a83c4e1-7ce4-46d9-bec7-c7122221df81",
   "metadata": {},
   "outputs": [
    {
     "data": {
      "text/html": [
       "<table class=\"simpletable\">\n",
       "<caption>Multiple Comparison of Means - Tukey HSD, FWER=0.05</caption>\n",
       "<tr>\n",
       "  <th>group1</th> <th>group2</th> <th>meandiff</th>  <th>p-adj</th>  <th>lower</th>   <th>upper</th> <th>reject</th>\n",
       "</tr>\n",
       "<tr>\n",
       "   <td>ANN1</td>    <td>GB</td>    <td>-0.058</td>  <td>0.9998</td> <td>-0.506</td>   <td>0.39</td>   <td>False</td>\n",
       "</tr>\n",
       "<tr>\n",
       "   <td>ANN1</td>   <td>GenRA</td>  <td>-0.055</td>  <td>0.9998</td> <td>-0.503</td>   <td>0.393</td>  <td>False</td>\n",
       "</tr>\n",
       "<tr>\n",
       "   <td>ANN1</td>    <td>KNN</td>   <td>-0.3587</td> <td>0.1705</td> <td>-0.8066</td> <td>0.0893</td>  <td>False</td>\n",
       "</tr>\n",
       "<tr>\n",
       "   <td>ANN1</td>    <td>LR</td>    <td>-0.0443</td>   <td>1.0</td>  <td>-0.4923</td> <td>0.4036</td>  <td>False</td>\n",
       "</tr>\n",
       "<tr>\n",
       "   <td>ANN1</td>    <td>NB</td>    <td>-0.0703</td> <td>0.9991</td> <td>-0.5183</td> <td>0.3776</td>  <td>False</td>\n",
       "</tr>\n",
       "<tr>\n",
       "   <td>ANN1</td>    <td>RF</td>     <td>-0.02</td>    <td>1.0</td>  <td>-0.468</td>   <td>0.428</td>  <td>False</td>\n",
       "</tr>\n",
       "<tr>\n",
       "   <td>ANN1</td>    <td>SVC</td>   <td>0.0033</td>    <td>1.0</td>  <td>-0.4446</td> <td>0.4513</td>  <td>False</td>\n",
       "</tr>\n",
       "<tr>\n",
       "    <td>GB</td>    <td>GenRA</td>   <td>0.003</td>    <td>1.0</td>  <td>-0.445</td>   <td>0.451</td>  <td>False</td>\n",
       "</tr>\n",
       "<tr>\n",
       "    <td>GB</td>     <td>KNN</td>   <td>-0.3007</td> <td>0.3388</td> <td>-0.7486</td> <td>0.1473</td>  <td>False</td>\n",
       "</tr>\n",
       "<tr>\n",
       "    <td>GB</td>     <td>LR</td>    <td>0.0137</td>    <td>1.0</td>  <td>-0.4343</td> <td>0.4616</td>  <td>False</td>\n",
       "</tr>\n",
       "<tr>\n",
       "    <td>GB</td>     <td>NB</td>    <td>-0.0123</td>   <td>1.0</td>  <td>-0.4603</td> <td>0.4356</td>  <td>False</td>\n",
       "</tr>\n",
       "<tr>\n",
       "    <td>GB</td>     <td>RF</td>     <td>0.038</td>    <td>1.0</td>   <td>-0.41</td>   <td>0.486</td>  <td>False</td>\n",
       "</tr>\n",
       "<tr>\n",
       "    <td>GB</td>     <td>SVC</td>   <td>0.0613</td>  <td>0.9996</td> <td>-0.3866</td> <td>0.5093</td>  <td>False</td>\n",
       "</tr>\n",
       "<tr>\n",
       "   <td>GenRA</td>   <td>KNN</td>   <td>-0.3037</td>  <td>0.328</td> <td>-0.7516</td> <td>0.1443</td>  <td>False</td>\n",
       "</tr>\n",
       "<tr>\n",
       "   <td>GenRA</td>   <td>LR</td>    <td>0.0107</td>    <td>1.0</td>  <td>-0.4373</td> <td>0.4586</td>  <td>False</td>\n",
       "</tr>\n",
       "<tr>\n",
       "   <td>GenRA</td>   <td>NB</td>    <td>-0.0153</td>   <td>1.0</td>  <td>-0.4633</td> <td>0.4326</td>  <td>False</td>\n",
       "</tr>\n",
       "<tr>\n",
       "   <td>GenRA</td>   <td>RF</td>     <td>0.035</td>    <td>1.0</td>  <td>-0.413</td>   <td>0.483</td>  <td>False</td>\n",
       "</tr>\n",
       "<tr>\n",
       "   <td>GenRA</td>   <td>SVC</td>   <td>0.0583</td>  <td>0.9997</td> <td>-0.3896</td> <td>0.5063</td>  <td>False</td>\n",
       "</tr>\n",
       "<tr>\n",
       "    <td>KNN</td>    <td>LR</td>    <td>0.3143</td>  <td>0.2914</td> <td>-0.1336</td> <td>0.7623</td>  <td>False</td>\n",
       "</tr>\n",
       "<tr>\n",
       "    <td>KNN</td>    <td>NB</td>    <td>0.2883</td>  <td>0.3856</td> <td>-0.1596</td> <td>0.7363</td>  <td>False</td>\n",
       "</tr>\n",
       "<tr>\n",
       "    <td>KNN</td>    <td>RF</td>    <td>0.3387</td>  <td>0.2189</td> <td>-0.1093</td> <td>0.7866</td>  <td>False</td>\n",
       "</tr>\n",
       "<tr>\n",
       "    <td>KNN</td>    <td>SVC</td>    <td>0.362</td>  <td>0.1634</td> <td>-0.086</td>   <td>0.81</td>   <td>False</td>\n",
       "</tr>\n",
       "<tr>\n",
       "    <td>LR</td>     <td>NB</td>    <td>-0.026</td>    <td>1.0</td>  <td>-0.474</td>   <td>0.422</td>  <td>False</td>\n",
       "</tr>\n",
       "<tr>\n",
       "    <td>LR</td>     <td>RF</td>    <td>0.0243</td>    <td>1.0</td>  <td>-0.4236</td> <td>0.4723</td>  <td>False</td>\n",
       "</tr>\n",
       "<tr>\n",
       "    <td>LR</td>     <td>SVC</td>   <td>0.0477</td>  <td>0.9999</td> <td>-0.4003</td> <td>0.4956</td>  <td>False</td>\n",
       "</tr>\n",
       "<tr>\n",
       "    <td>NB</td>     <td>RF</td>    <td>0.0503</td>  <td>0.9999</td> <td>-0.3976</td> <td>0.4983</td>  <td>False</td>\n",
       "</tr>\n",
       "<tr>\n",
       "    <td>NB</td>     <td>SVC</td>   <td>0.0737</td>  <td>0.9988</td> <td>-0.3743</td> <td>0.5216</td>  <td>False</td>\n",
       "</tr>\n",
       "<tr>\n",
       "    <td>RF</td>     <td>SVC</td>   <td>0.0233</td>    <td>1.0</td>  <td>-0.4246</td> <td>0.4713</td>  <td>False</td>\n",
       "</tr>\n",
       "</table>"
      ],
      "text/plain": [
       "<class 'statsmodels.iolib.table.SimpleTable'>"
      ]
     },
     "execution_count": 39,
     "metadata": {},
     "output_type": "execute_result"
    }
   ],
   "source": [
    "tukey_dict['mrgn']"
   ]
  },
  {
   "cell_type": "code",
   "execution_count": null,
   "id": "5a0ffbd9-62c1-4e81-9dc9-97717695874f",
   "metadata": {},
   "outputs": [],
   "source": []
  },
  {
   "cell_type": "code",
   "execution_count": null,
   "id": "cec2c883-ae03-42ae-938d-9a112736abca",
   "metadata": {},
   "outputs": [],
   "source": []
  }
 ],
 "metadata": {
  "kernelspec": {
   "display_name": "aim",
   "language": "python",
   "name": "aim"
  },
  "language_info": {
   "codemirror_mode": {
    "name": "ipython",
    "version": 3
   },
   "file_extension": ".py",
   "mimetype": "text/x-python",
   "name": "python",
   "nbconvert_exporter": "python",
   "pygments_lexer": "ipython3",
   "version": "3.8.13"
  },
  "widgets": {
   "application/vnd.jupyter.widget-state+json": {
    "state": {},
    "version_major": 2,
    "version_minor": 0
   }
  }
 },
 "nbformat": 4,
 "nbformat_minor": 5
}
