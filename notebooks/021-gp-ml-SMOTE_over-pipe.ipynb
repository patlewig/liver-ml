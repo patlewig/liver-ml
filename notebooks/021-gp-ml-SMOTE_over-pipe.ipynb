{
 "cells": [
  {
   "cell_type": "code",
   "execution_count": 1,
   "metadata": {},
   "outputs": [],
   "source": [
    "import matplotlib.pyplot as plt\n",
    "import pandas as pd\n",
    "import numpy as np\n",
    "import pylab as pl\n",
    "import scipy as sp\n",
    "import sys\n",
    "\n",
    "import os, sys\n",
    "\n",
    "%matplotlib inline"
   ]
  },
  {
   "cell_type": "code",
   "execution_count": 2,
   "metadata": {},
   "outputs": [],
   "source": [
    "from box import Box\n",
    "import glob"
   ]
  },
  {
   "cell_type": "code",
   "execution_count": 3,
   "metadata": {},
   "outputs": [],
   "source": [
    "TOP = os.getcwd().replace(\"notebooks/tt\", \"\")\n",
    "D1 = TOP + 'data/'\n",
    "figures_dir = TOP + 'manuscript/figures/'"
   ]
  },
  {
   "cell_type": "markdown",
   "metadata": {},
   "source": [
    "### DATA"
   ]
  },
  {
   "cell_type": "code",
   "execution_count": 4,
   "metadata": {},
   "outputs": [],
   "source": [
    "CHM1 = pd.read_csv(D1 + 'S7-chem.tsv', sep='\\t', low_memory=False)\n",
    "CHM1 = CHM1.replace(['-'], np.nan)\n",
    "CHM1.isnull().values.any()\n",
    "CHM1 = CHM1.dropna()\n",
    "CHM1\n",
    "CHM1_nm = CHM1[['DTXSID', 'PREFERRED_NAME']].set_index('DTXSID')\n",
    "X = CHM1 = CHM1.drop(['PREFERRED_NAME'], axis=1).set_index('DTXSID')\n",
    "\n",
    "CHM11 = Box()\n",
    "for i in set([i[0] for i in X.columns.str.split('_') ]):\n",
    "    CHM11[i] =  X[X.columns[X.columns.str.match(i)]]\n",
    "CHM11['all'] = X"
   ]
  },
  {
   "cell_type": "code",
   "execution_count": 5,
   "metadata": {},
   "outputs": [],
   "source": [
    "BIO1 = pd.read_csv(D1+'S2-bio.tsv', sep='\\t') \n",
    "BIO1 = BIO1.rename(columns = {'dsstox_substance_id':'DTXSID'})\n",
    "\n",
    "BIO1 = BIO1.drop(['chnm', 'casn'], axis = 1).set_index('DTXSID')\n",
    "BIO11 = Box()\n",
    "for i in set([i[0] for i in BIO1.columns.str.split('_')]):\n",
    "    BIO11[i]=BIO1[BIO1.columns[BIO1.columns.str.match(i)]]\n",
    "BIO11['all']=BIO1"
   ]
  },
  {
   "cell_type": "code",
   "execution_count": 6,
   "metadata": {},
   "outputs": [],
   "source": [
    "TOX1 = pd.read_csv(D1+'S1-tox.tsv', sep='\\t')\n",
    "\n",
    "TOX1 = TOX1.rename(columns = {'dsstox_substance_id':'DTXSID'})\n",
    "TOX1 = TOX1.drop(['preferred_name'], axis=1).set_index('DTXSID')\n",
    "#set([i[0] for i in TOX1.columns.str.split('_')])\n",
    "TOX11 = Box()\n",
    "for i in set([i[0] for i in TOX1.columns.str.split('_')]):\n",
    "    TOX11[i] = TOX1[TOX1.columns[TOX1.columns.str.match(i)]]\n",
    "TOX11['all'] = TOX1"
   ]
  },
  {
   "cell_type": "code",
   "execution_count": 7,
   "metadata": {},
   "outputs": [
    {
     "name": "stdout",
     "output_type": "stream",
     "text": [
      "gene mrgn\n",
      "assay mrgn\n",
      "all mrgn\n",
      "gene toxp\n",
      "assay toxp\n",
      "all toxp\n",
      "gene tptr\n",
      "assay tptr\n",
      "all tptr\n",
      "gene all\n",
      "assay all\n",
      "all all\n"
     ]
    }
   ],
   "source": [
    "DATA = Box(chm=CHM11,bio=BIO11,tox=TOX11)\n",
    "DATA['bc'] = Box()\n",
    "\n",
    "for c,b in [(i,j) for i in CHM11.keys() for j in BIO11.keys()]:\n",
    "    print(b,c)\n",
    "    DATA['bc']['{}_{}'.format(b,c)] = CHM11[c].merge(BIO11[b],left_index=True,right_index=True)"
   ]
  },
  {
   "cell_type": "code",
   "execution_count": 8,
   "metadata": {},
   "outputs": [
    {
     "data": {
      "text/plain": [
       "['chr_liver',\n",
       " 'dev_liver',\n",
       " 'dev_premature_delivery',\n",
       " 'dnt_liver',\n",
       " 'mgr_liver',\n",
       " 'neu_liver',\n",
       " 'oth_liver',\n",
       " 'rep_liver',\n",
       " 'sac_liver',\n",
       " 'sub_liver']"
      ]
     },
     "execution_count": 8,
     "metadata": {},
     "output_type": "execute_result"
    }
   ],
   "source": [
    "[e for e in TOX1.columns if 'liver' in e]"
   ]
  },
  {
   "cell_type": "code",
   "execution_count": 9,
   "metadata": {},
   "outputs": [],
   "source": [
    "effects = ['chr_liver', 'dev_liver']"
   ]
  },
  {
   "cell_type": "markdown",
   "metadata": {},
   "source": [
    "### DEF getDATA"
   ]
  },
  {
   "cell_type": "code",
   "execution_count": 10,
   "metadata": {},
   "outputs": [],
   "source": [
    "def getData(b,dt='chm',st='all',Data=DATA):\n",
    "    \"\"\"\n",
    "    Return an input and output dataframe for analysis\n",
    "    \n",
    "    b = toxicity class\n",
    "    dt= input data type (chm or bio)\n",
    "    st= inpute subdata type ()\n",
    "    \"\"\"\n",
    "    \n",
    "    Y = Data.tox.all[b].dropna()\n",
    "    INT=Data[dt][st].index.intersection(Y.index)\n",
    "    if len(INT)>0:\n",
    "        Yf= Y.copy()[INT]\n",
    "        Yf[Yf>0]=1\n",
    "        Yb = Yf.copy()\n",
    "        Yb = Yb.astype(np.int32)\n",
    "        X  = Data[dt][st].loc[INT].fillna(0)\n",
    "    else:\n",
    "        pass\n",
    "    \n",
    "    return X,Yb"
   ]
  },
  {
   "cell_type": "code",
   "execution_count": 11,
   "metadata": {},
   "outputs": [],
   "source": [
    "#getData('chr_liver',dt='chm',st='mrgn')\n"
   ]
  },
  {
   "cell_type": "code",
   "execution_count": 12,
   "metadata": {},
   "outputs": [],
   "source": [
    "mydict = {}\n",
    "for e in effects:\n",
    "    data = getData(e,dt='chm',st='mrgn')\n",
    "    mydict[e] = data"
   ]
  },
  {
   "cell_type": "code",
   "execution_count": 13,
   "metadata": {},
   "outputs": [],
   "source": [
    "from collections import Counter\n",
    "from sklearn.model_selection import train_test_split\n",
    "import pandas as pd\n",
    "import numpy as np\n",
    "import warnings"
   ]
  },
  {
   "cell_type": "markdown",
   "metadata": {},
   "source": [
    "## Balance with SMOTE Oversampling"
   ]
  },
  {
   "cell_type": "code",
   "execution_count": 14,
   "metadata": {},
   "outputs": [],
   "source": [
    "from imblearn.over_sampling import SMOTE\n",
    "from sklearn.model_selection import cross_validate, cross_val_predict\n",
    "from sklearn.metrics import make_scorer, recall_score, f1_score, accuracy_score, precision_score\n",
    "from collections import Counter"
   ]
  },
  {
   "cell_type": "markdown",
   "metadata": {},
   "source": [
    "### Model Validation Using chm descriptors After Oversampling"
   ]
  },
  {
   "cell_type": "code",
   "execution_count": 15,
   "metadata": {},
   "outputs": [],
   "source": [
    "from sklearn.feature_selection import SelectKBest,f_classif\n",
    "from sklearn.ensemble import GradientBoostingClassifier\n",
    "from sklearn.ensemble import RandomForestClassifier\n",
    "from sklearn.ensemble import StackingClassifier\n",
    "from sklearn.pipeline import make_pipeline\n",
    "from sklearn.svm import SVC\n",
    "from sklearn.neighbors import KNeighborsClassifier\n",
    "from sklearn.linear_model import LogisticRegression\n",
    "from sklearn.neural_network import MLPClassifier\n",
    "from sklearn.naive_bayes import BernoulliNB\n",
    "#from sklearn.tree import DecisionTreeClassifier\n",
    "\n",
    "from genra.rax.skl.cls import *\n",
    "from sklearn.model_selection import StratifiedKFold\n",
    "from imblearn.pipeline import Pipeline"
   ]
  },
  {
   "cell_type": "code",
   "execution_count": 16,
   "metadata": {},
   "outputs": [],
   "source": [
    "def model_cv(d,  label = None):\n",
    "    Res = []\n",
    "    Est = [('Random Forest', RandomForestClassifier(random_state=42)),\n",
    "          ('NB', BernoulliNB()),\n",
    "          ('LR', LogisticRegression(max_iter=1000)),\n",
    "          ('Gradient Boosting', GradientBoostingClassifier()),\n",
    "          ('SVC', SVC(gamma='auto',probability=True)),\n",
    "          ('KNN',KNeighborsClassifier()),\n",
    "          ('ANN1',MLPClassifier(solver='sgd')),\n",
    "          ('GenRA', GenRAPredClass(n_neighbors=10,metric='jaccard'))]\n",
    "   \n",
    "    X, Y = d\n",
    "    \n",
    "    for model in Est:\n",
    "        LR, Clf = model\n",
    "        steps = [('oversample', SMOTE()), model]\n",
    "        pipeline = Pipeline(steps=steps)\n",
    "        score = cross_validate(pipeline, X, Y,\n",
    "                           cv=StratifiedKFold(n_splits = 5),\n",
    "                           scoring= {'accuracy': make_scorer(accuracy_score),\n",
    "                                     'f1': make_scorer(f1_score),\n",
    "                                     'sensitivity': make_scorer(recall_score),\n",
    "                                     'specificity': make_scorer(recall_score,pos_label=0),\n",
    "                                    'precision': make_scorer(precision_score)},\n",
    "                           n_jobs=-1, verbose=1)\n",
    "    #elapsed_time = datetime.now() - start_time\n",
    "        SC = pd.DataFrame(score)\n",
    "        SC.insert(0,'LR',LR)\n",
    "        Res.append(SC)\n",
    "    return Res"
   ]
  },
  {
   "cell_type": "code",
   "execution_count": 17,
   "metadata": {},
   "outputs": [],
   "source": [
    "def plugin(d, label=None):\n",
    "    summary = {}\n",
    "    X, Y = d\n",
    "    summary['label'] = label\n",
    "    summary['score'] = model_cv(d)\n",
    "    \n",
    "    return summary"
   ]
  },
  {
   "cell_type": "code",
   "execution_count": 18,
   "metadata": {},
   "outputs": [
    {
     "name": "stderr",
     "output_type": "stream",
     "text": [
      "[Parallel(n_jobs=-1)]: Using backend LokyBackend with 8 concurrent workers.\n",
      "[Parallel(n_jobs=-1)]: Done   2 out of   5 | elapsed:    1.9s remaining:    2.9s\n",
      "[Parallel(n_jobs=-1)]: Done   5 out of   5 | elapsed:    2.4s finished\n",
      "[Parallel(n_jobs=-1)]: Using backend LokyBackend with 8 concurrent workers.\n",
      "[Parallel(n_jobs=-1)]: Done   2 out of   5 | elapsed:    0.4s remaining:    0.7s\n",
      "[Parallel(n_jobs=-1)]: Done   5 out of   5 | elapsed:    0.9s finished\n",
      "[Parallel(n_jobs=-1)]: Using backend LokyBackend with 8 concurrent workers.\n",
      "[Parallel(n_jobs=-1)]: Done   2 out of   5 | elapsed:    0.4s remaining:    0.6s\n",
      "[Parallel(n_jobs=-1)]: Done   5 out of   5 | elapsed:    0.6s finished\n",
      "[Parallel(n_jobs=-1)]: Using backend LokyBackend with 8 concurrent workers.\n",
      "[Parallel(n_jobs=-1)]: Done   2 out of   5 | elapsed:    1.2s remaining:    1.8s\n",
      "[Parallel(n_jobs=-1)]: Done   5 out of   5 | elapsed:    1.5s finished\n",
      "[Parallel(n_jobs=-1)]: Using backend LokyBackend with 8 concurrent workers.\n",
      "[Parallel(n_jobs=-1)]: Done   2 out of   5 | elapsed:    2.3s remaining:    3.4s\n",
      "[Parallel(n_jobs=-1)]: Done   5 out of   5 | elapsed:    2.7s finished\n",
      "[Parallel(n_jobs=-1)]: Using backend LokyBackend with 8 concurrent workers.\n",
      "[Parallel(n_jobs=-1)]: Done   2 out of   5 | elapsed:    0.3s remaining:    0.5s\n",
      "[Parallel(n_jobs=-1)]: Done   5 out of   5 | elapsed:    0.4s finished\n",
      "[Parallel(n_jobs=-1)]: Using backend LokyBackend with 8 concurrent workers.\n",
      "[Parallel(n_jobs=-1)]: Done   2 out of   5 | elapsed:    8.3s remaining:   12.5s\n",
      "[Parallel(n_jobs=-1)]: Done   5 out of   5 | elapsed:   10.2s finished\n",
      "[Parallel(n_jobs=-1)]: Using backend LokyBackend with 8 concurrent workers.\n",
      "[Parallel(n_jobs=-1)]: Done   2 out of   5 | elapsed:    0.4s remaining:    0.5s\n",
      "[Parallel(n_jobs=-1)]: Done   5 out of   5 | elapsed:    0.4s finished\n",
      "[Parallel(n_jobs=-1)]: Using backend LokyBackend with 8 concurrent workers.\n",
      "[Parallel(n_jobs=-1)]: Done   2 out of   5 | elapsed:    0.5s remaining:    0.8s\n",
      "[Parallel(n_jobs=-1)]: Done   5 out of   5 | elapsed:    0.8s finished\n",
      "[Parallel(n_jobs=-1)]: Using backend LokyBackend with 8 concurrent workers.\n",
      "[Parallel(n_jobs=-1)]: Done   2 out of   5 | elapsed:    0.3s remaining:    0.4s\n",
      "[Parallel(n_jobs=-1)]: Done   5 out of   5 | elapsed:    0.4s finished\n",
      "[Parallel(n_jobs=-1)]: Using backend LokyBackend with 8 concurrent workers.\n",
      "[Parallel(n_jobs=-1)]: Done   2 out of   5 | elapsed:    0.4s remaining:    0.6s\n",
      "[Parallel(n_jobs=-1)]: Done   5 out of   5 | elapsed:    0.5s finished\n",
      "[Parallel(n_jobs=-1)]: Using backend LokyBackend with 8 concurrent workers.\n",
      "[Parallel(n_jobs=-1)]: Done   2 out of   5 | elapsed:    1.0s remaining:    1.5s\n",
      "[Parallel(n_jobs=-1)]: Done   5 out of   5 | elapsed:    1.3s finished\n",
      "[Parallel(n_jobs=-1)]: Using backend LokyBackend with 8 concurrent workers.\n",
      "[Parallel(n_jobs=-1)]: Done   2 out of   5 | elapsed:    2.2s remaining:    3.4s\n",
      "[Parallel(n_jobs=-1)]: Done   5 out of   5 | elapsed:    2.6s finished\n",
      "[Parallel(n_jobs=-1)]: Using backend LokyBackend with 8 concurrent workers.\n",
      "[Parallel(n_jobs=-1)]: Done   2 out of   5 | elapsed:    0.4s remaining:    0.5s\n",
      "[Parallel(n_jobs=-1)]: Done   5 out of   5 | elapsed:    0.5s finished\n",
      "[Parallel(n_jobs=-1)]: Using backend LokyBackend with 8 concurrent workers.\n",
      "[Parallel(n_jobs=-1)]: Done   2 out of   5 | elapsed:    7.5s remaining:   11.3s\n",
      "[Parallel(n_jobs=-1)]: Done   5 out of   5 | elapsed:    9.4s finished\n",
      "[Parallel(n_jobs=-1)]: Using backend LokyBackend with 8 concurrent workers.\n",
      "[Parallel(n_jobs=-1)]: Done   2 out of   5 | elapsed:    0.3s remaining:    0.4s\n",
      "[Parallel(n_jobs=-1)]: Done   5 out of   5 | elapsed:    0.4s finished\n"
     ]
    }
   ],
   "source": [
    "chm_summaries = []\n",
    "for k in list(mydict.keys()):\n",
    "    try:\n",
    "        chm_summaries.append(plugin(mydict[k], k))\n",
    "    except Exception as error:\n",
    "        print(k)"
   ]
  },
  {
   "cell_type": "code",
   "execution_count": 19,
   "metadata": {},
   "outputs": [],
   "source": [
    "myperm2 = {}\n",
    "myperm = {}\n",
    "for i in range(len(chm_summaries)):\n",
    "    k = chm_summaries[i]['label']\n",
    "    Perf = pd.concat(chm_summaries[i]['score'])\n",
    "    Perf_agg = Perf.groupby(['LR']).aggregate(dict(test_f1=[np.mean,np.std],\n",
    "                                    test_sensitivity=[np.mean,np.std],\n",
    "                                    test_specificity=[np.mean,np.std],\n",
    "                                    test_accuracy=[np.mean,np.std],\n",
    "                                    test_precision=[np.mean,np.std],))\\\n",
    "    .round(decimals=3)\n",
    "    myperm[k] = Perf_agg\n",
    "    myperm2[k] = Perf       "
   ]
  },
  {
   "cell_type": "code",
   "execution_count": 20,
   "metadata": {},
   "outputs": [],
   "source": [
    "Perf_mgrn = pd.concat(myperm)    \n",
    "Perf_mgrn_raw = pd.concat(myperm2)   "
   ]
  },
  {
   "cell_type": "code",
   "execution_count": 21,
   "metadata": {},
   "outputs": [],
   "source": [
    "Perf_mgrn\n",
    "\n",
    "Perf_mgrn_raw.to_csv(D1 + '/ML_overSMOTE_mgrn_all_140823.csv' )\n",
    "Perf_mgrn.to_csv(D1 + '/ML_overSMOTE_mgrn_summary_140823.csv' )"
   ]
  },
  {
   "cell_type": "markdown",
   "metadata": {},
   "source": [
    "## Model Validation Using Bio (gene hitc) Descriptors"
   ]
  },
  {
   "cell_type": "code",
   "execution_count": 22,
   "metadata": {},
   "outputs": [],
   "source": [
    "bio_dict = {}\n",
    "for e in effects:\n",
    "    data = getData(e,dt='bio',st='gene')\n",
    "    bio_dict[e] = data"
   ]
  },
  {
   "cell_type": "code",
   "execution_count": 23,
   "metadata": {},
   "outputs": [
    {
     "name": "stderr",
     "output_type": "stream",
     "text": [
      "[Parallel(n_jobs=-1)]: Using backend LokyBackend with 8 concurrent workers.\n",
      "[Parallel(n_jobs=-1)]: Done   2 out of   5 | elapsed:    0.2s remaining:    0.3s\n",
      "[Parallel(n_jobs=-1)]: Done   5 out of   5 | elapsed:    0.2s finished\n",
      "[Parallel(n_jobs=-1)]: Using backend LokyBackend with 8 concurrent workers.\n",
      "[Parallel(n_jobs=-1)]: Done   2 out of   5 | elapsed:    0.0s remaining:    0.1s\n",
      "[Parallel(n_jobs=-1)]: Done   5 out of   5 | elapsed:    0.1s finished\n",
      "[Parallel(n_jobs=-1)]: Using backend LokyBackend with 8 concurrent workers.\n",
      "[Parallel(n_jobs=-1)]: Done   2 out of   5 | elapsed:    0.1s remaining:    0.1s\n",
      "[Parallel(n_jobs=-1)]: Done   5 out of   5 | elapsed:    0.1s finished\n",
      "[Parallel(n_jobs=-1)]: Using backend LokyBackend with 8 concurrent workers.\n",
      "[Parallel(n_jobs=-1)]: Done   2 out of   5 | elapsed:    0.2s remaining:    0.3s\n",
      "[Parallel(n_jobs=-1)]: Done   5 out of   5 | elapsed:    0.2s finished\n",
      "[Parallel(n_jobs=-1)]: Using backend LokyBackend with 8 concurrent workers.\n",
      "[Parallel(n_jobs=-1)]: Done   2 out of   5 | elapsed:    0.1s remaining:    0.2s\n",
      "[Parallel(n_jobs=-1)]: Done   5 out of   5 | elapsed:    0.1s finished\n",
      "[Parallel(n_jobs=-1)]: Using backend LokyBackend with 8 concurrent workers.\n",
      "[Parallel(n_jobs=-1)]: Done   2 out of   5 | elapsed:    0.0s remaining:    0.1s\n",
      "[Parallel(n_jobs=-1)]: Done   5 out of   5 | elapsed:    0.0s finished\n",
      "[Parallel(n_jobs=-1)]: Using backend LokyBackend with 8 concurrent workers.\n",
      "[Parallel(n_jobs=-1)]: Done   2 out of   5 | elapsed:    0.7s remaining:    1.0s\n",
      "[Parallel(n_jobs=-1)]: Done   5 out of   5 | elapsed:    0.7s finished\n",
      "[Parallel(n_jobs=-1)]: Using backend LokyBackend with 8 concurrent workers.\n",
      "[Parallel(n_jobs=-1)]: Done   2 out of   5 | elapsed:    0.0s remaining:    0.1s\n",
      "[Parallel(n_jobs=-1)]: Done   5 out of   5 | elapsed:    0.0s finished\n",
      "[Parallel(n_jobs=-1)]: Using backend LokyBackend with 8 concurrent workers.\n",
      "[Parallel(n_jobs=-1)]: Done   2 out of   5 | elapsed:    0.2s remaining:    0.2s\n",
      "[Parallel(n_jobs=-1)]: Done   5 out of   5 | elapsed:    0.2s finished\n",
      "[Parallel(n_jobs=-1)]: Using backend LokyBackend with 8 concurrent workers.\n",
      "[Parallel(n_jobs=-1)]: Done   2 out of   5 | elapsed:    0.0s remaining:    0.0s\n",
      "[Parallel(n_jobs=-1)]: Done   5 out of   5 | elapsed:    0.0s finished\n",
      "[Parallel(n_jobs=-1)]: Using backend LokyBackend with 8 concurrent workers.\n",
      "[Parallel(n_jobs=-1)]: Done   2 out of   5 | elapsed:    0.0s remaining:    0.1s\n",
      "[Parallel(n_jobs=-1)]: Done   5 out of   5 | elapsed:    0.1s finished\n",
      "[Parallel(n_jobs=-1)]: Using backend LokyBackend with 8 concurrent workers.\n",
      "[Parallel(n_jobs=-1)]: Done   2 out of   5 | elapsed:    0.2s remaining:    0.2s\n",
      "[Parallel(n_jobs=-1)]: Done   5 out of   5 | elapsed:    0.2s finished\n",
      "[Parallel(n_jobs=-1)]: Using backend LokyBackend with 8 concurrent workers.\n",
      "[Parallel(n_jobs=-1)]: Done   2 out of   5 | elapsed:    0.1s remaining:    0.1s\n",
      "[Parallel(n_jobs=-1)]: Done   5 out of   5 | elapsed:    0.1s finished\n",
      "[Parallel(n_jobs=-1)]: Using backend LokyBackend with 8 concurrent workers.\n",
      "[Parallel(n_jobs=-1)]: Done   2 out of   5 | elapsed:    0.0s remaining:    0.0s\n",
      "[Parallel(n_jobs=-1)]: Done   5 out of   5 | elapsed:    0.0s finished\n",
      "[Parallel(n_jobs=-1)]: Using backend LokyBackend with 8 concurrent workers.\n",
      "[Parallel(n_jobs=-1)]: Done   2 out of   5 | elapsed:    0.5s remaining:    0.8s\n",
      "[Parallel(n_jobs=-1)]: Done   5 out of   5 | elapsed:    0.6s finished\n",
      "[Parallel(n_jobs=-1)]: Using backend LokyBackend with 8 concurrent workers.\n",
      "[Parallel(n_jobs=-1)]: Done   2 out of   5 | elapsed:    0.0s remaining:    0.1s\n",
      "[Parallel(n_jobs=-1)]: Done   5 out of   5 | elapsed:    0.0s finished\n"
     ]
    }
   ],
   "source": [
    "bio_summaries = []\n",
    "for k in list(bio_dict.keys()):\n",
    "    try:\n",
    "        bio_summaries.append(plugin(bio_dict[k], k))\n",
    "    except Exception as error:\n",
    "        print(k)"
   ]
  },
  {
   "cell_type": "code",
   "execution_count": 24,
   "metadata": {},
   "outputs": [],
   "source": [
    "bio_perm2 = {}\n",
    "bio_perm = {}\n",
    "for i in range(len(bio_summaries)):\n",
    "    k = bio_summaries[i]['label']\n",
    "    Perf = pd.concat(bio_summaries[i]['score'])\n",
    "    Perf_agg = Perf.groupby(['LR']).aggregate(dict(test_f1=[np.mean,np.std],\n",
    "                                    test_sensitivity=[np.mean,np.std],\n",
    "                                    test_specificity=[np.mean,np.std],\n",
    "                                    test_accuracy=[np.mean,np.std],\n",
    "                                    test_precision=[np.mean,np.std],))\\\n",
    "    .round(decimals=3)\n",
    "    bio_perm[k] = Perf_agg\n",
    "    bio_perm2[k] = Perf"
   ]
  },
  {
   "cell_type": "code",
   "execution_count": 25,
   "metadata": {},
   "outputs": [],
   "source": [
    "Perf_bio = pd.concat(bio_perm)  \n",
    "Perf_bio_raw = pd.concat(bio_perm2)  "
   ]
  },
  {
   "cell_type": "code",
   "execution_count": 26,
   "metadata": {},
   "outputs": [],
   "source": [
    "Perf_bio_raw.to_csv(D1 + '/ML_overSMOTE_bio_all_140823.csv' )\n",
    "Perf_bio.to_csv(D1 + '/ML_overSMOTE_bio_summary_140823.csv' )        \n",
    "        "
   ]
  },
  {
   "cell_type": "markdown",
   "metadata": {},
   "source": [
    "## Model Validation Using Hybrid (chm(mrgn) + bio(hitc)) Descriptors"
   ]
  },
  {
   "cell_type": "code",
   "execution_count": 27,
   "metadata": {},
   "outputs": [],
   "source": [
    "hybrid_dict = {}\n",
    "for e in effects:\n",
    "    data = getData(e,dt='bc',st='gene_mrgn')\n",
    "    hybrid_dict[e] = data"
   ]
  },
  {
   "cell_type": "code",
   "execution_count": 28,
   "metadata": {},
   "outputs": [
    {
     "name": "stderr",
     "output_type": "stream",
     "text": [
      "[Parallel(n_jobs=-1)]: Using backend LokyBackend with 8 concurrent workers.\n",
      "[Parallel(n_jobs=-1)]: Done   2 out of   5 | elapsed:    0.9s remaining:    1.4s\n",
      "[Parallel(n_jobs=-1)]: Done   5 out of   5 | elapsed:    1.0s finished\n",
      "[Parallel(n_jobs=-1)]: Using backend LokyBackend with 8 concurrent workers.\n",
      "[Parallel(n_jobs=-1)]: Done   2 out of   5 | elapsed:    0.5s remaining:    0.8s\n",
      "[Parallel(n_jobs=-1)]: Done   5 out of   5 | elapsed:    0.6s finished\n",
      "[Parallel(n_jobs=-1)]: Using backend LokyBackend with 8 concurrent workers.\n",
      "[Parallel(n_jobs=-1)]: Done   2 out of   5 | elapsed:    0.8s remaining:    1.2s\n",
      "[Parallel(n_jobs=-1)]: Done   5 out of   5 | elapsed:    0.9s finished\n",
      "[Parallel(n_jobs=-1)]: Using backend LokyBackend with 8 concurrent workers.\n",
      "[Parallel(n_jobs=-1)]: Done   2 out of   5 | elapsed:    1.3s remaining:    2.0s\n",
      "[Parallel(n_jobs=-1)]: Done   5 out of   5 | elapsed:    1.8s finished\n",
      "[Parallel(n_jobs=-1)]: Using backend LokyBackend with 8 concurrent workers.\n",
      "[Parallel(n_jobs=-1)]: Done   2 out of   5 | elapsed:    2.6s remaining:    3.9s\n",
      "[Parallel(n_jobs=-1)]: Done   5 out of   5 | elapsed:    3.0s finished\n",
      "[Parallel(n_jobs=-1)]: Using backend LokyBackend with 8 concurrent workers.\n",
      "[Parallel(n_jobs=-1)]: Done   2 out of   5 | elapsed:    0.4s remaining:    0.6s\n",
      "[Parallel(n_jobs=-1)]: Done   5 out of   5 | elapsed:    0.6s finished\n",
      "[Parallel(n_jobs=-1)]: Using backend LokyBackend with 8 concurrent workers.\n",
      "[Parallel(n_jobs=-1)]: Done   2 out of   5 | elapsed:   11.2s remaining:   16.8s\n",
      "[Parallel(n_jobs=-1)]: Done   5 out of   5 | elapsed:   11.4s finished\n",
      "[Parallel(n_jobs=-1)]: Using backend LokyBackend with 8 concurrent workers.\n",
      "[Parallel(n_jobs=-1)]: Done   2 out of   5 | elapsed:    0.5s remaining:    0.8s\n",
      "[Parallel(n_jobs=-1)]: Done   5 out of   5 | elapsed:    0.7s finished\n",
      "[Parallel(n_jobs=-1)]: Using backend LokyBackend with 8 concurrent workers.\n",
      "[Parallel(n_jobs=-1)]: Done   2 out of   5 | elapsed:    0.8s remaining:    1.1s\n",
      "[Parallel(n_jobs=-1)]: Done   5 out of   5 | elapsed:    0.9s finished\n",
      "[Parallel(n_jobs=-1)]: Using backend LokyBackend with 8 concurrent workers.\n",
      "[Parallel(n_jobs=-1)]: Done   2 out of   5 | elapsed:    0.5s remaining:    0.7s\n",
      "[Parallel(n_jobs=-1)]: Done   5 out of   5 | elapsed:    0.7s finished\n",
      "[Parallel(n_jobs=-1)]: Using backend LokyBackend with 8 concurrent workers.\n",
      "[Parallel(n_jobs=-1)]: Done   2 out of   5 | elapsed:    0.7s remaining:    1.0s\n",
      "[Parallel(n_jobs=-1)]: Done   5 out of   5 | elapsed:    0.7s finished\n",
      "[Parallel(n_jobs=-1)]: Using backend LokyBackend with 8 concurrent workers.\n",
      "[Parallel(n_jobs=-1)]: Done   2 out of   5 | elapsed:    1.4s remaining:    2.2s\n",
      "[Parallel(n_jobs=-1)]: Done   5 out of   5 | elapsed:    1.7s finished\n",
      "[Parallel(n_jobs=-1)]: Using backend LokyBackend with 8 concurrent workers.\n",
      "[Parallel(n_jobs=-1)]: Done   2 out of   5 | elapsed:    2.0s remaining:    3.0s\n",
      "[Parallel(n_jobs=-1)]: Done   5 out of   5 | elapsed:    2.4s finished\n",
      "[Parallel(n_jobs=-1)]: Using backend LokyBackend with 8 concurrent workers.\n",
      "[Parallel(n_jobs=-1)]: Done   2 out of   5 | elapsed:    0.3s remaining:    0.5s\n",
      "[Parallel(n_jobs=-1)]: Done   5 out of   5 | elapsed:    0.5s finished\n",
      "[Parallel(n_jobs=-1)]: Using backend LokyBackend with 8 concurrent workers.\n",
      "[Parallel(n_jobs=-1)]: Done   2 out of   5 | elapsed:    8.2s remaining:   12.4s\n",
      "[Parallel(n_jobs=-1)]: Done   5 out of   5 | elapsed:   10.6s finished\n",
      "[Parallel(n_jobs=-1)]: Using backend LokyBackend with 8 concurrent workers.\n",
      "[Parallel(n_jobs=-1)]: Done   2 out of   5 | elapsed:    0.6s remaining:    0.8s\n",
      "[Parallel(n_jobs=-1)]: Done   5 out of   5 | elapsed:    0.6s finished\n"
     ]
    }
   ],
   "source": [
    "hybrid_summaries = []\n",
    "for k in list(hybrid_dict.keys()):\n",
    "    try:\n",
    "        hybrid_summaries.append(plugin(hybrid_dict[k], k))\n",
    "    except Exception as error:\n",
    "        print(k)"
   ]
  },
  {
   "cell_type": "code",
   "execution_count": 29,
   "metadata": {},
   "outputs": [],
   "source": [
    "myperm2 = {}\n",
    "myperm = {}\n",
    "for i in range(len(hybrid_summaries)):\n",
    "    k = hybrid_summaries[i]['label']\n",
    "    Perf = pd.concat(hybrid_summaries[i]['score'])\n",
    "    Perf_agg = Perf.groupby(['LR']).aggregate(dict(test_f1=[np.mean,np.std],\n",
    "                                    test_sensitivity=[np.mean,np.std],\n",
    "                                    test_specificity=[np.mean,np.std],\n",
    "                                    test_accuracy=[np.mean,np.std],\n",
    "                                    test_precision=[np.mean,np.std],))\\\n",
    "    .round(decimals=3)\n",
    "    myperm[k] = Perf_agg\n",
    "    myperm2[k] = Perf"
   ]
  },
  {
   "cell_type": "code",
   "execution_count": 30,
   "metadata": {},
   "outputs": [],
   "source": [
    "Perf_hybrid = pd.concat(myperm)  \n",
    "Perf_hybrid_raw = pd.concat(myperm2) "
   ]
  },
  {
   "cell_type": "code",
   "execution_count": 31,
   "metadata": {},
   "outputs": [],
   "source": [
    "Perf_hybrid_raw.to_csv(D1 + '/ML_overSMOTE_hybrid_all_140823.csv' )\n",
    "Perf_hybrid.to_csv(D1 + '/ML_overSMOTE_hybrid_summary_140823.csv' )  "
   ]
  },
  {
   "cell_type": "markdown",
   "metadata": {},
   "source": [
    "## Model Validation Using All Chm (mrgn + tptr + toxp) Descriptors     "
   ]
  },
  {
   "cell_type": "code",
   "execution_count": 32,
   "metadata": {},
   "outputs": [],
   "source": [
    "ca_dict = {}\n",
    "for e in effects:\n",
    "    data = getData(e,dt='chm',st='all')\n",
    "    ca_dict[e] = data\n",
    "\n",
    "\n"
   ]
  },
  {
   "cell_type": "code",
   "execution_count": 33,
   "metadata": {},
   "outputs": [
    {
     "name": "stderr",
     "output_type": "stream",
     "text": [
      "[Parallel(n_jobs=-1)]: Using backend LokyBackend with 8 concurrent workers.\n",
      "[Parallel(n_jobs=-1)]: Done   2 out of   5 | elapsed:    1.6s remaining:    2.3s\n",
      "[Parallel(n_jobs=-1)]: Done   5 out of   5 | elapsed:    2.2s finished\n",
      "[Parallel(n_jobs=-1)]: Using backend LokyBackend with 8 concurrent workers.\n",
      "[Parallel(n_jobs=-1)]: Done   2 out of   5 | elapsed:    1.3s remaining:    1.9s\n",
      "[Parallel(n_jobs=-1)]: Done   5 out of   5 | elapsed:    1.7s finished\n",
      "[Parallel(n_jobs=-1)]: Using backend LokyBackend with 8 concurrent workers.\n",
      "[Parallel(n_jobs=-1)]: Done   2 out of   5 | elapsed:    1.3s remaining:    1.9s\n",
      "[Parallel(n_jobs=-1)]: Done   5 out of   5 | elapsed:    1.8s finished\n",
      "[Parallel(n_jobs=-1)]: Using backend LokyBackend with 8 concurrent workers.\n",
      "[Parallel(n_jobs=-1)]: Done   2 out of   5 | elapsed:    2.6s remaining:    3.9s\n",
      "[Parallel(n_jobs=-1)]: Done   5 out of   5 | elapsed:    3.4s finished\n",
      "[Parallel(n_jobs=-1)]: Using backend LokyBackend with 8 concurrent workers.\n",
      "[Parallel(n_jobs=-1)]: Done   2 out of   5 | elapsed:    6.1s remaining:    9.1s\n",
      "[Parallel(n_jobs=-1)]: Done   5 out of   5 | elapsed:    7.4s finished\n",
      "[Parallel(n_jobs=-1)]: Using backend LokyBackend with 8 concurrent workers.\n",
      "[Parallel(n_jobs=-1)]: Done   2 out of   5 | elapsed:    1.0s remaining:    1.4s\n",
      "[Parallel(n_jobs=-1)]: Done   5 out of   5 | elapsed:    1.4s finished\n",
      "[Parallel(n_jobs=-1)]: Using backend LokyBackend with 8 concurrent workers.\n",
      "[Parallel(n_jobs=-1)]: Done   2 out of   5 | elapsed:   24.7s remaining:   37.1s\n",
      "[Parallel(n_jobs=-1)]: Done   5 out of   5 | elapsed:   28.3s finished\n",
      "[Parallel(n_jobs=-1)]: Using backend LokyBackend with 8 concurrent workers.\n",
      "[Parallel(n_jobs=-1)]: Done   2 out of   5 | elapsed:    1.1s remaining:    1.7s\n",
      "[Parallel(n_jobs=-1)]: Done   5 out of   5 | elapsed:    1.6s finished\n",
      "[Parallel(n_jobs=-1)]: Using backend LokyBackend with 8 concurrent workers.\n",
      "[Parallel(n_jobs=-1)]: Done   2 out of   5 | elapsed:    1.1s remaining:    1.7s\n",
      "[Parallel(n_jobs=-1)]: Done   5 out of   5 | elapsed:    1.8s finished\n",
      "[Parallel(n_jobs=-1)]: Using backend LokyBackend with 8 concurrent workers.\n",
      "[Parallel(n_jobs=-1)]: Done   2 out of   5 | elapsed:    1.0s remaining:    1.5s\n",
      "[Parallel(n_jobs=-1)]: Done   5 out of   5 | elapsed:    1.5s finished\n",
      "[Parallel(n_jobs=-1)]: Using backend LokyBackend with 8 concurrent workers.\n",
      "[Parallel(n_jobs=-1)]: Done   2 out of   5 | elapsed:    1.1s remaining:    1.7s\n",
      "[Parallel(n_jobs=-1)]: Done   5 out of   5 | elapsed:    1.9s finished\n",
      "[Parallel(n_jobs=-1)]: Using backend LokyBackend with 8 concurrent workers.\n",
      "[Parallel(n_jobs=-1)]: Done   2 out of   5 | elapsed:    2.6s remaining:    3.9s\n",
      "[Parallel(n_jobs=-1)]: Done   5 out of   5 | elapsed:    3.2s finished\n",
      "[Parallel(n_jobs=-1)]: Using backend LokyBackend with 8 concurrent workers.\n",
      "[Parallel(n_jobs=-1)]: Done   2 out of   5 | elapsed:    5.0s remaining:    7.5s\n",
      "[Parallel(n_jobs=-1)]: Done   5 out of   5 | elapsed:    6.5s finished\n",
      "[Parallel(n_jobs=-1)]: Using backend LokyBackend with 8 concurrent workers.\n",
      "[Parallel(n_jobs=-1)]: Done   2 out of   5 | elapsed:    1.0s remaining:    1.6s\n",
      "[Parallel(n_jobs=-1)]: Done   5 out of   5 | elapsed:    1.3s finished\n",
      "[Parallel(n_jobs=-1)]: Using backend LokyBackend with 8 concurrent workers.\n",
      "[Parallel(n_jobs=-1)]: Done   2 out of   5 | elapsed:   22.2s remaining:   33.2s\n",
      "[Parallel(n_jobs=-1)]: Done   5 out of   5 | elapsed:   27.7s finished\n",
      "[Parallel(n_jobs=-1)]: Using backend LokyBackend with 8 concurrent workers.\n",
      "[Parallel(n_jobs=-1)]: Done   2 out of   5 | elapsed:    1.0s remaining:    1.5s\n",
      "[Parallel(n_jobs=-1)]: Done   5 out of   5 | elapsed:    1.5s finished\n"
     ]
    }
   ],
   "source": [
    "ca_summaries = []\n",
    "for k in list(ca_dict.keys()):\n",
    "    try:\n",
    "        ca_summaries.append(plugin(ca_dict[k], k))\n",
    "    except Exception as error:\n",
    "        print(k)"
   ]
  },
  {
   "cell_type": "code",
   "execution_count": 34,
   "metadata": {},
   "outputs": [],
   "source": [
    "ca_perm2 = {}\n",
    "ca_perm = {}\n",
    "for i in range(len(ca_summaries)):\n",
    "    k = ca_summaries[i]['label']\n",
    "    Perf = pd.concat(ca_summaries[i]['score'])\n",
    "    Perf_agg = Perf.groupby(['LR']).aggregate(dict(test_f1=[np.mean,np.std],\n",
    "                                    test_sensitivity=[np.mean,np.std],\n",
    "                                    test_specificity=[np.mean,np.std],\n",
    "                                    test_accuracy=[np.mean,np.std],\n",
    "                                    test_precision=[np.mean,np.std],))\\\n",
    "    .round(decimals=3)\n",
    "    ca_perm[k] = Perf_agg\n",
    "    ca_perm2[k] = Perf"
   ]
  },
  {
   "cell_type": "code",
   "execution_count": 35,
   "metadata": {},
   "outputs": [],
   "source": [
    "Perf_ca = pd.concat(ca_perm)  \n",
    "Perf_ca_raw = pd.concat(ca_perm2)  "
   ]
  },
  {
   "cell_type": "code",
   "execution_count": 36,
   "metadata": {},
   "outputs": [],
   "source": [
    "Perf_ca_raw.to_csv(D1 + '/ML_overSMOTE_ca_all_140823.csv' )\n",
    "Perf_ca.to_csv(D1 + '/ML_overSMOTE_ca_summary_140823.csv' )  "
   ]
  },
  {
   "cell_type": "markdown",
   "metadata": {},
   "source": [
    "## Model Validation Using All Chm + bio (mrgn + tptr + toxp + bio) Descriptors"
   ]
  },
  {
   "cell_type": "code",
   "execution_count": 37,
   "metadata": {},
   "outputs": [],
   "source": [
    "bc_dict = {}\n",
    "for e in effects:\n",
    "    data = getData(e,dt='bc',st='gene_all')\n",
    "    bc_dict[e] = data"
   ]
  },
  {
   "cell_type": "code",
   "execution_count": 38,
   "metadata": {},
   "outputs": [
    {
     "name": "stderr",
     "output_type": "stream",
     "text": [
      "[Parallel(n_jobs=-1)]: Using backend LokyBackend with 8 concurrent workers.\n",
      "[Parallel(n_jobs=-1)]: Done   2 out of   5 | elapsed:    1.6s remaining:    2.4s\n",
      "[Parallel(n_jobs=-1)]: Done   5 out of   5 | elapsed:    2.0s finished\n",
      "[Parallel(n_jobs=-1)]: Using backend LokyBackend with 8 concurrent workers.\n",
      "[Parallel(n_jobs=-1)]: Done   2 out of   5 | elapsed:    1.2s remaining:    1.8s\n",
      "[Parallel(n_jobs=-1)]: Done   5 out of   5 | elapsed:    1.8s finished\n",
      "[Parallel(n_jobs=-1)]: Using backend LokyBackend with 8 concurrent workers.\n",
      "[Parallel(n_jobs=-1)]: Done   2 out of   5 | elapsed:    1.4s remaining:    2.2s\n",
      "[Parallel(n_jobs=-1)]: Done   5 out of   5 | elapsed:    1.8s finished\n",
      "[Parallel(n_jobs=-1)]: Using backend LokyBackend with 8 concurrent workers.\n",
      "[Parallel(n_jobs=-1)]: Done   2 out of   5 | elapsed:    2.8s remaining:    4.2s\n",
      "[Parallel(n_jobs=-1)]: Done   5 out of   5 | elapsed:    3.5s finished\n",
      "[Parallel(n_jobs=-1)]: Using backend LokyBackend with 8 concurrent workers.\n",
      "[Parallel(n_jobs=-1)]: Done   2 out of   5 | elapsed:    7.3s remaining:   11.0s\n",
      "[Parallel(n_jobs=-1)]: Done   5 out of   5 | elapsed:    7.9s finished\n",
      "[Parallel(n_jobs=-1)]: Using backend LokyBackend with 8 concurrent workers.\n",
      "[Parallel(n_jobs=-1)]: Done   2 out of   5 | elapsed:    1.0s remaining:    1.6s\n",
      "[Parallel(n_jobs=-1)]: Done   5 out of   5 | elapsed:    1.4s finished\n",
      "[Parallel(n_jobs=-1)]: Using backend LokyBackend with 8 concurrent workers.\n",
      "[Parallel(n_jobs=-1)]: Done   2 out of   5 | elapsed:   26.2s remaining:   39.3s\n",
      "[Parallel(n_jobs=-1)]: Done   5 out of   5 | elapsed:   28.4s finished\n",
      "[Parallel(n_jobs=-1)]: Using backend LokyBackend with 8 concurrent workers.\n",
      "[Parallel(n_jobs=-1)]: Done   2 out of   5 | elapsed:    1.1s remaining:    1.6s\n",
      "[Parallel(n_jobs=-1)]: Done   5 out of   5 | elapsed:    1.6s finished\n",
      "[Parallel(n_jobs=-1)]: Using backend LokyBackend with 8 concurrent workers.\n",
      "[Parallel(n_jobs=-1)]: Done   2 out of   5 | elapsed:    1.6s remaining:    2.3s\n",
      "[Parallel(n_jobs=-1)]: Done   5 out of   5 | elapsed:    1.6s finished\n",
      "[Parallel(n_jobs=-1)]: Using backend LokyBackend with 8 concurrent workers.\n",
      "[Parallel(n_jobs=-1)]: Done   2 out of   5 | elapsed:    1.0s remaining:    1.5s\n",
      "[Parallel(n_jobs=-1)]: Done   5 out of   5 | elapsed:    1.4s finished\n",
      "[Parallel(n_jobs=-1)]: Using backend LokyBackend with 8 concurrent workers.\n",
      "[Parallel(n_jobs=-1)]: Done   2 out of   5 | elapsed:    1.2s remaining:    1.8s\n",
      "[Parallel(n_jobs=-1)]: Done   5 out of   5 | elapsed:    1.7s finished\n",
      "[Parallel(n_jobs=-1)]: Using backend LokyBackend with 8 concurrent workers.\n",
      "[Parallel(n_jobs=-1)]: Done   2 out of   5 | elapsed:    2.6s remaining:    3.9s\n",
      "[Parallel(n_jobs=-1)]: Done   5 out of   5 | elapsed:    3.4s finished\n",
      "[Parallel(n_jobs=-1)]: Using backend LokyBackend with 8 concurrent workers.\n",
      "[Parallel(n_jobs=-1)]: Done   2 out of   5 | elapsed:    5.4s remaining:    8.2s\n",
      "[Parallel(n_jobs=-1)]: Done   5 out of   5 | elapsed:    6.6s finished\n",
      "[Parallel(n_jobs=-1)]: Using backend LokyBackend with 8 concurrent workers.\n",
      "[Parallel(n_jobs=-1)]: Done   2 out of   5 | elapsed:    1.0s remaining:    1.5s\n",
      "[Parallel(n_jobs=-1)]: Done   5 out of   5 | elapsed:    1.3s finished\n",
      "[Parallel(n_jobs=-1)]: Using backend LokyBackend with 8 concurrent workers.\n",
      "[Parallel(n_jobs=-1)]: Done   2 out of   5 | elapsed:   22.8s remaining:   34.3s\n",
      "[Parallel(n_jobs=-1)]: Done   5 out of   5 | elapsed:   27.8s finished\n",
      "[Parallel(n_jobs=-1)]: Using backend LokyBackend with 8 concurrent workers.\n",
      "[Parallel(n_jobs=-1)]: Done   2 out of   5 | elapsed:    1.0s remaining:    1.5s\n",
      "[Parallel(n_jobs=-1)]: Done   5 out of   5 | elapsed:    1.4s finished\n"
     ]
    }
   ],
   "source": [
    "bc_summaries = []\n",
    "for k in list(bc_dict.keys()):\n",
    "    try:\n",
    "        bc_summaries.append(plugin(bc_dict[k], k))\n",
    "    except Exception as error:\n",
    "        print(k)"
   ]
  },
  {
   "cell_type": "code",
   "execution_count": 39,
   "metadata": {},
   "outputs": [],
   "source": [
    "bc_perm2 = {}\n",
    "bc_perm = {}\n",
    "for i in range(len(bc_summaries)):\n",
    "    k = bc_summaries[i]['label']\n",
    "    Perf = pd.concat(bc_summaries[i]['score'])\n",
    "    Perf_agg = Perf.groupby(['LR']).aggregate(dict(test_f1=[np.mean,np.std],\n",
    "                                    test_sensitivity=[np.mean,np.std],\n",
    "                                    test_specificity=[np.mean,np.std],\n",
    "                                    test_accuracy=[np.mean,np.std],\n",
    "                                    test_precision=[np.mean,np.std],))\\\n",
    "    .round(decimals=3)\n",
    "    bc_perm[k] = Perf_agg\n",
    "    bc_perm2[k] = Perf"
   ]
  },
  {
   "cell_type": "code",
   "execution_count": 40,
   "metadata": {},
   "outputs": [],
   "source": [
    "Perf_bc = pd.concat(bc_perm)  \n",
    "Perf_bc_raw = pd.concat(bc_perm2)  "
   ]
  },
  {
   "cell_type": "code",
   "execution_count": 41,
   "metadata": {},
   "outputs": [],
   "source": [
    "Perf_bc_raw.to_csv(D1 + '/ML_overSMOTE_cba_all_140823.csv' )\n",
    "Perf_bc.to_csv(D1 + '/ML_overSMOTE_cba_all_summary_140823.csv' )    "
   ]
  },
  {
   "cell_type": "code",
   "execution_count": null,
   "metadata": {},
   "outputs": [],
   "source": []
  },
  {
   "cell_type": "code",
   "execution_count": 42,
   "metadata": {},
   "outputs": [],
   "source": [
    "def pref_files(df, dt, st, bl):\n",
    "    df = df.reset_index()\n",
    "    df.columns = ['tox', 'classifier', 'mean_f1', 'std_f1', 'mean_sensitivity', 'std_sensitivity', 'mean_specificity', 'std_specificity', 'mean_accuracy', 'std_accuracy', 'mean_precision', 'std_precision']\n",
    "    #df = df.drop([0,1])\n",
    "    df['dt'] = dt \n",
    "    df['balance'] = bl\n",
    "    df['sampling'] = st\n",
    "    #df = pd.merge(df, df_counts, on = 'tox', how = 'left')\n",
    "    return df"
   ]
  },
  {
   "cell_type": "code",
   "execution_count": 43,
   "metadata": {},
   "outputs": [],
   "source": [
    "#pref_files(Perf_mgrn, 'mgrn')"
   ]
  },
  {
   "cell_type": "code",
   "execution_count": 44,
   "metadata": {},
   "outputs": [],
   "source": [
    "mylst = ['mrgn', 'gene', 'cb', 'ca', 'cba']"
   ]
  },
  {
   "cell_type": "code",
   "execution_count": 45,
   "metadata": {},
   "outputs": [],
   "source": [
    "mylst2 = list(zip(mylst, [Perf_mgrn, \n",
    "Perf_bio, \n",
    "Perf_hybrid,\n",
    "Perf_ca, \n",
    "Perf_bc ], ))"
   ]
  },
  {
   "cell_type": "code",
   "execution_count": 46,
   "metadata": {},
   "outputs": [],
   "source": [
    "mylst3 = []\n",
    "for e in mylst2:\n",
    "    a,b = e\n",
    "    mylst3.append(pref_files(b,a, st = 'over', bl = 'SMOTE'))"
   ]
  },
  {
   "cell_type": "code",
   "execution_count": 47,
   "metadata": {},
   "outputs": [],
   "source": [
    "final_df = pd.concat(mylst3)"
   ]
  },
  {
   "cell_type": "code",
   "execution_count": 48,
   "metadata": {},
   "outputs": [
    {
     "data": {
      "text/html": [
       "<div>\n",
       "<style scoped>\n",
       "    .dataframe tbody tr th:only-of-type {\n",
       "        vertical-align: middle;\n",
       "    }\n",
       "\n",
       "    .dataframe tbody tr th {\n",
       "        vertical-align: top;\n",
       "    }\n",
       "\n",
       "    .dataframe thead th {\n",
       "        text-align: right;\n",
       "    }\n",
       "</style>\n",
       "<table border=\"1\" class=\"dataframe\">\n",
       "  <thead>\n",
       "    <tr style=\"text-align: right;\">\n",
       "      <th></th>\n",
       "      <th>tox</th>\n",
       "      <th>classifier</th>\n",
       "      <th>mean_f1</th>\n",
       "      <th>std_f1</th>\n",
       "      <th>mean_sensitivity</th>\n",
       "      <th>std_sensitivity</th>\n",
       "      <th>mean_specificity</th>\n",
       "      <th>std_specificity</th>\n",
       "      <th>mean_accuracy</th>\n",
       "      <th>std_accuracy</th>\n",
       "      <th>mean_precision</th>\n",
       "      <th>std_precision</th>\n",
       "      <th>dt</th>\n",
       "      <th>balance</th>\n",
       "      <th>sampling</th>\n",
       "    </tr>\n",
       "  </thead>\n",
       "  <tbody>\n",
       "    <tr>\n",
       "      <th>0</th>\n",
       "      <td>chr_liver</td>\n",
       "      <td>ANN1</td>\n",
       "      <td>0.747</td>\n",
       "      <td>0.031</td>\n",
       "      <td>0.830</td>\n",
       "      <td>0.112</td>\n",
       "      <td>0.288</td>\n",
       "      <td>0.189</td>\n",
       "      <td>0.640</td>\n",
       "      <td>0.013</td>\n",
       "      <td>0.686</td>\n",
       "      <td>0.023</td>\n",
       "      <td>mrgn</td>\n",
       "      <td>SMOTE</td>\n",
       "      <td>over</td>\n",
       "    </tr>\n",
       "    <tr>\n",
       "      <th>1</th>\n",
       "      <td>chr_liver</td>\n",
       "      <td>GenRA</td>\n",
       "      <td>0.658</td>\n",
       "      <td>0.090</td>\n",
       "      <td>0.609</td>\n",
       "      <td>0.184</td>\n",
       "      <td>0.608</td>\n",
       "      <td>0.228</td>\n",
       "      <td>0.610</td>\n",
       "      <td>0.050</td>\n",
       "      <td>0.756</td>\n",
       "      <td>0.054</td>\n",
       "      <td>mrgn</td>\n",
       "      <td>SMOTE</td>\n",
       "      <td>over</td>\n",
       "    </tr>\n",
       "    <tr>\n",
       "      <th>2</th>\n",
       "      <td>chr_liver</td>\n",
       "      <td>Gradient Boosting</td>\n",
       "      <td>0.713</td>\n",
       "      <td>0.099</td>\n",
       "      <td>0.728</td>\n",
       "      <td>0.189</td>\n",
       "      <td>0.469</td>\n",
       "      <td>0.121</td>\n",
       "      <td>0.637</td>\n",
       "      <td>0.090</td>\n",
       "      <td>0.715</td>\n",
       "      <td>0.034</td>\n",
       "      <td>mrgn</td>\n",
       "      <td>SMOTE</td>\n",
       "      <td>over</td>\n",
       "    </tr>\n",
       "    <tr>\n",
       "      <th>3</th>\n",
       "      <td>chr_liver</td>\n",
       "      <td>KNN</td>\n",
       "      <td>0.032</td>\n",
       "      <td>0.044</td>\n",
       "      <td>0.017</td>\n",
       "      <td>0.023</td>\n",
       "      <td>0.992</td>\n",
       "      <td>0.018</td>\n",
       "      <td>0.360</td>\n",
       "      <td>0.008</td>\n",
       "      <td>0.333</td>\n",
       "      <td>0.471</td>\n",
       "      <td>mrgn</td>\n",
       "      <td>SMOTE</td>\n",
       "      <td>over</td>\n",
       "    </tr>\n",
       "    <tr>\n",
       "      <th>4</th>\n",
       "      <td>chr_liver</td>\n",
       "      <td>LR</td>\n",
       "      <td>0.704</td>\n",
       "      <td>0.087</td>\n",
       "      <td>0.707</td>\n",
       "      <td>0.167</td>\n",
       "      <td>0.484</td>\n",
       "      <td>0.135</td>\n",
       "      <td>0.629</td>\n",
       "      <td>0.074</td>\n",
       "      <td>0.717</td>\n",
       "      <td>0.028</td>\n",
       "      <td>mrgn</td>\n",
       "      <td>SMOTE</td>\n",
       "      <td>over</td>\n",
       "    </tr>\n",
       "    <tr>\n",
       "      <th>...</th>\n",
       "      <td>...</td>\n",
       "      <td>...</td>\n",
       "      <td>...</td>\n",
       "      <td>...</td>\n",
       "      <td>...</td>\n",
       "      <td>...</td>\n",
       "      <td>...</td>\n",
       "      <td>...</td>\n",
       "      <td>...</td>\n",
       "      <td>...</td>\n",
       "      <td>...</td>\n",
       "      <td>...</td>\n",
       "      <td>...</td>\n",
       "      <td>...</td>\n",
       "      <td>...</td>\n",
       "    </tr>\n",
       "    <tr>\n",
       "      <th>11</th>\n",
       "      <td>dev_liver</td>\n",
       "      <td>KNN</td>\n",
       "      <td>0.275</td>\n",
       "      <td>0.023</td>\n",
       "      <td>0.956</td>\n",
       "      <td>0.099</td>\n",
       "      <td>0.023</td>\n",
       "      <td>0.028</td>\n",
       "      <td>0.175</td>\n",
       "      <td>0.020</td>\n",
       "      <td>0.161</td>\n",
       "      <td>0.013</td>\n",
       "      <td>cba</td>\n",
       "      <td>SMOTE</td>\n",
       "      <td>over</td>\n",
       "    </tr>\n",
       "    <tr>\n",
       "      <th>12</th>\n",
       "      <td>dev_liver</td>\n",
       "      <td>LR</td>\n",
       "      <td>0.151</td>\n",
       "      <td>0.090</td>\n",
       "      <td>0.142</td>\n",
       "      <td>0.099</td>\n",
       "      <td>0.863</td>\n",
       "      <td>0.070</td>\n",
       "      <td>0.744</td>\n",
       "      <td>0.058</td>\n",
       "      <td>0.183</td>\n",
       "      <td>0.109</td>\n",
       "      <td>cba</td>\n",
       "      <td>SMOTE</td>\n",
       "      <td>over</td>\n",
       "    </tr>\n",
       "    <tr>\n",
       "      <th>13</th>\n",
       "      <td>dev_liver</td>\n",
       "      <td>NB</td>\n",
       "      <td>0.295</td>\n",
       "      <td>0.160</td>\n",
       "      <td>0.456</td>\n",
       "      <td>0.307</td>\n",
       "      <td>0.708</td>\n",
       "      <td>0.187</td>\n",
       "      <td>0.664</td>\n",
       "      <td>0.130</td>\n",
       "      <td>0.235</td>\n",
       "      <td>0.134</td>\n",
       "      <td>cba</td>\n",
       "      <td>SMOTE</td>\n",
       "      <td>over</td>\n",
       "    </tr>\n",
       "    <tr>\n",
       "      <th>14</th>\n",
       "      <td>dev_liver</td>\n",
       "      <td>Random Forest</td>\n",
       "      <td>0.132</td>\n",
       "      <td>0.122</td>\n",
       "      <td>0.119</td>\n",
       "      <td>0.119</td>\n",
       "      <td>0.913</td>\n",
       "      <td>0.081</td>\n",
       "      <td>0.782</td>\n",
       "      <td>0.055</td>\n",
       "      <td>0.194</td>\n",
       "      <td>0.211</td>\n",
       "      <td>cba</td>\n",
       "      <td>SMOTE</td>\n",
       "      <td>over</td>\n",
       "    </tr>\n",
       "    <tr>\n",
       "      <th>15</th>\n",
       "      <td>dev_liver</td>\n",
       "      <td>SVC</td>\n",
       "      <td>0.347</td>\n",
       "      <td>0.115</td>\n",
       "      <td>0.819</td>\n",
       "      <td>0.125</td>\n",
       "      <td>0.388</td>\n",
       "      <td>0.195</td>\n",
       "      <td>0.458</td>\n",
       "      <td>0.174</td>\n",
       "      <td>0.223</td>\n",
       "      <td>0.089</td>\n",
       "      <td>cba</td>\n",
       "      <td>SMOTE</td>\n",
       "      <td>over</td>\n",
       "    </tr>\n",
       "  </tbody>\n",
       "</table>\n",
       "<p>80 rows × 15 columns</p>\n",
       "</div>"
      ],
      "text/plain": [
       "          tox         classifier  mean_f1  std_f1  mean_sensitivity  \\\n",
       "0   chr_liver               ANN1    0.747   0.031             0.830   \n",
       "1   chr_liver              GenRA    0.658   0.090             0.609   \n",
       "2   chr_liver  Gradient Boosting    0.713   0.099             0.728   \n",
       "3   chr_liver                KNN    0.032   0.044             0.017   \n",
       "4   chr_liver                 LR    0.704   0.087             0.707   \n",
       "..        ...                ...      ...     ...               ...   \n",
       "11  dev_liver                KNN    0.275   0.023             0.956   \n",
       "12  dev_liver                 LR    0.151   0.090             0.142   \n",
       "13  dev_liver                 NB    0.295   0.160             0.456   \n",
       "14  dev_liver      Random Forest    0.132   0.122             0.119   \n",
       "15  dev_liver                SVC    0.347   0.115             0.819   \n",
       "\n",
       "    std_sensitivity  mean_specificity  std_specificity  mean_accuracy  \\\n",
       "0             0.112             0.288            0.189          0.640   \n",
       "1             0.184             0.608            0.228          0.610   \n",
       "2             0.189             0.469            0.121          0.637   \n",
       "3             0.023             0.992            0.018          0.360   \n",
       "4             0.167             0.484            0.135          0.629   \n",
       "..              ...               ...              ...            ...   \n",
       "11            0.099             0.023            0.028          0.175   \n",
       "12            0.099             0.863            0.070          0.744   \n",
       "13            0.307             0.708            0.187          0.664   \n",
       "14            0.119             0.913            0.081          0.782   \n",
       "15            0.125             0.388            0.195          0.458   \n",
       "\n",
       "    std_accuracy  mean_precision  std_precision    dt balance sampling  \n",
       "0          0.013           0.686          0.023  mrgn   SMOTE     over  \n",
       "1          0.050           0.756          0.054  mrgn   SMOTE     over  \n",
       "2          0.090           0.715          0.034  mrgn   SMOTE     over  \n",
       "3          0.008           0.333          0.471  mrgn   SMOTE     over  \n",
       "4          0.074           0.717          0.028  mrgn   SMOTE     over  \n",
       "..           ...             ...            ...   ...     ...      ...  \n",
       "11         0.020           0.161          0.013   cba   SMOTE     over  \n",
       "12         0.058           0.183          0.109   cba   SMOTE     over  \n",
       "13         0.130           0.235          0.134   cba   SMOTE     over  \n",
       "14         0.055           0.194          0.211   cba   SMOTE     over  \n",
       "15         0.174           0.223          0.089   cba   SMOTE     over  \n",
       "\n",
       "[80 rows x 15 columns]"
      ]
     },
     "execution_count": 48,
     "metadata": {},
     "output_type": "execute_result"
    }
   ],
   "source": [
    "final_df"
   ]
  },
  {
   "cell_type": "code",
   "execution_count": 50,
   "metadata": {},
   "outputs": [],
   "source": [
    "writer = pd.ExcelWriter(D1+'SMOTE_over_all_140823.xlsx', engine='xlsxwriter')\n",
    "\n",
    "# Convert the dataframe to an XlsxWriter Excel object.\n",
    "\n",
    "final_df.to_excel(writer, sheet_name = 'all')\n",
    "\n",
    "writer.save()"
   ]
  },
  {
   "cell_type": "code",
   "execution_count": null,
   "metadata": {},
   "outputs": [],
   "source": []
  }
 ],
 "metadata": {
  "kernelspec": {
   "display_name": "aim",
   "language": "python",
   "name": "aim"
  },
  "language_info": {
   "codemirror_mode": {
    "name": "ipython",
    "version": 3
   },
   "file_extension": ".py",
   "mimetype": "text/x-python",
   "name": "python",
   "nbconvert_exporter": "python",
   "pygments_lexer": "ipython3",
   "version": "3.8.13"
  },
  "widgets": {
   "application/vnd.jupyter.widget-state+json": {
    "state": {},
    "version_major": 2,
    "version_minor": 0
   }
  }
 },
 "nbformat": 4,
 "nbformat_minor": 4
}
